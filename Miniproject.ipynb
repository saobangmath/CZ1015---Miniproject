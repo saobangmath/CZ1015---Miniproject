{
 "cells": [
  {
   "cell_type": "markdown",
   "metadata": {},
   "source": [
    "![title](image/ntu_logo.png)"
   ]
  },
  {
   "cell_type": "markdown",
   "metadata": {},
   "source": [
    "# CZ1015 MiniProject: Introduction to Data Science and Artificial Intelligence\n",
    "\n",
    "# Accidental Aviation Dataset Report\n",
    "\n",
    "- A program coded in **Python** that analysis accidents characteristics using AccidentalAviation dataset. It is containing different accidents with respect to various different factors  \n",
    "\n",
    "Made by: \n",
    "\n",
    "### Tran Anh Tai - U1820351C\n",
    "\n",
    "### Sim Tian Quan - U1921887D\n",
    "\n",
    "### Muhammad Nasran Hamza - U1921348G\n",
    "\n",
    "### Kundu Kousani - U1922997B\n",
    "\n",
    "### Group: FS406"
   ]
  },
  {
   "cell_type": "markdown",
   "metadata": {},
   "source": [
    "# Problem Statement(s)\n",
    "\n",
    "\n",
    "## 1. Which manufacturer produces aircrafts has least amount of injuries\n",
    "\n",
    "\n",
    "## 2. Which accidents are outliers compared to others "
   ]
  },
  {
   "cell_type": "markdown",
   "metadata": {},
   "source": [
    "# Importing all important libraries required for data exploration"
   ]
  },
  {
   "cell_type": "code",
   "execution_count": 133,
   "metadata": {},
   "outputs": [
    {
     "data": {
      "text/html": [
       "        <script type=\"text/javascript\">\n",
       "        window.PlotlyConfig = {MathJaxConfig: 'local'};\n",
       "        if (window.MathJax) {MathJax.Hub.Config({SVG: {font: \"STIX-Web\"}});}\n",
       "        if (typeof require !== 'undefined') {\n",
       "        require.undef(\"plotly\");\n",
       "        requirejs.config({\n",
       "            paths: {\n",
       "                'plotly': ['https://cdn.plot.ly/plotly-latest.min']\n",
       "            }\n",
       "        });\n",
       "        require(['plotly'], function(Plotly) {\n",
       "            window._Plotly = Plotly;\n",
       "        });\n",
       "        }\n",
       "        </script>\n",
       "        "
      ]
     },
     "metadata": {},
     "output_type": "display_data"
    }
   ],
   "source": [
    "# Importing all the project pre-requisites\n",
    "import pandas as pd\n",
    "import numpy as np\n",
    "import seaborn as sb\n",
    "import matplotlib.pyplot as plt\n",
    "sb.set()\n",
    "\n",
    "# Import essential models and functions from sklearn\n",
    "from sklearn.model_selection import train_test_split\n",
    "from sklearn.model_selection import train_test_split, GridSearchCV\n",
    "from sklearn.linear_model import LinearRegression\n",
    "from sklearn.preprocessing import StandardScaler\n",
    "from sklearn import metrics\n",
    "from sklearn.metrics import confusion_matrix\n",
    "from sklearn.tree import export_graphviz\n",
    "from sklearn.cluster import DBSCAN\n",
    "import graphviz\n",
    "\n",
    "# Import required models and  functions from scipy \n",
    "import scipy\n",
    "from scipy.cluster.hierarchy import dendrogram, linkage\n",
    "# Import essential models and functions from plotly\n",
    "import plotly\n",
    "import plotly.offline as py\n",
    "import plotly.graph_objs as go\n",
    "import plotly.express as px\n",
    "from plotly.offline import download_plotlyjs, init_notebook_mode, plot, iplot\n",
    "\n",
    "init_notebook_mode(connected=True)"
   ]
  },
  {
   "cell_type": "markdown",
   "metadata": {},
   "source": [
    "# Import the Accidental Aviation Dataset"
   ]
  },
  {
   "cell_type": "markdown",
   "metadata": {},
   "source": [
    "Vital statistics of the dataset using type and shape attribute"
   ]
  },
  {
   "cell_type": "code",
   "execution_count": 20,
   "metadata": {},
   "outputs": [
    {
     "name": "stdout",
     "output_type": "stream",
     "text": [
      "Data type :  <class 'pandas.core.frame.DataFrame'>\n",
      "Data dims :  (79141, 22)\n"
     ]
    },
    {
     "data": {
      "text/html": [
       "<div>\n",
       "<style scoped>\n",
       "    .dataframe tbody tr th:only-of-type {\n",
       "        vertical-align: middle;\n",
       "    }\n",
       "\n",
       "    .dataframe tbody tr th {\n",
       "        vertical-align: top;\n",
       "    }\n",
       "\n",
       "    .dataframe thead th {\n",
       "        text-align: right;\n",
       "    }\n",
       "</style>\n",
       "<table border=\"1\" class=\"dataframe\">\n",
       "  <thead>\n",
       "    <tr style=\"text-align: right;\">\n",
       "      <th></th>\n",
       "      <th>EVENT_DATE</th>\n",
       "      <th>LOCATION</th>\n",
       "      <th>COUNTRY</th>\n",
       "      <th>LATITUDE</th>\n",
       "      <th>LONGITUDE</th>\n",
       "      <th>AIRPORT_CODE</th>\n",
       "      <th>AIRPORT_NAME</th>\n",
       "      <th>INJURY_SEVERITY</th>\n",
       "      <th>AIRCRAFT_DAMAGE</th>\n",
       "      <th>AIRCRAFT_CATEGORY</th>\n",
       "      <th>...</th>\n",
       "      <th>AMATEUR_BUILT</th>\n",
       "      <th>NUMBER_OF_ENGINES</th>\n",
       "      <th>ENGINE_TYPE</th>\n",
       "      <th>PURPOSE_OF_FLIGHT</th>\n",
       "      <th>TOTAL_FATAL_INJURIES</th>\n",
       "      <th>TOTAL_SERIOUS_INJURIES</th>\n",
       "      <th>TOTAL_MINOR_INJURIES</th>\n",
       "      <th>TOTAL_UNINJURED</th>\n",
       "      <th>WEATHER_CONDITION</th>\n",
       "      <th>BROAD_PHASE_OF_FLIGHT</th>\n",
       "    </tr>\n",
       "  </thead>\n",
       "  <tbody>\n",
       "    <tr>\n",
       "      <th>0</th>\n",
       "      <td>14/11/2016</td>\n",
       "      <td>Winton, New Zealand</td>\n",
       "      <td>New Zealand</td>\n",
       "      <td>NaN</td>\n",
       "      <td>NaN</td>\n",
       "      <td>NaN</td>\n",
       "      <td>NaN</td>\n",
       "      <td>Non-Fatal</td>\n",
       "      <td>Substantial</td>\n",
       "      <td>Helicopter</td>\n",
       "      <td>...</td>\n",
       "      <td>No</td>\n",
       "      <td>1.0</td>\n",
       "      <td>Turbo Shaft</td>\n",
       "      <td>NaN</td>\n",
       "      <td>NaN</td>\n",
       "      <td>NaN</td>\n",
       "      <td>NaN</td>\n",
       "      <td>1.0</td>\n",
       "      <td>NaN</td>\n",
       "      <td>MANEUVERING</td>\n",
       "    </tr>\n",
       "    <tr>\n",
       "      <th>1</th>\n",
       "      <td>14/11/2016</td>\n",
       "      <td>Albrook, Panama</td>\n",
       "      <td>Panama</td>\n",
       "      <td>NaN</td>\n",
       "      <td>NaN</td>\n",
       "      <td>MPMG</td>\n",
       "      <td>Marcos A. Gelabert Intl.</td>\n",
       "      <td>Non-Fatal</td>\n",
       "      <td>Substantial</td>\n",
       "      <td>Airplane</td>\n",
       "      <td>...</td>\n",
       "      <td>No</td>\n",
       "      <td>NaN</td>\n",
       "      <td>NaN</td>\n",
       "      <td>NaN</td>\n",
       "      <td>NaN</td>\n",
       "      <td>NaN</td>\n",
       "      <td>NaN</td>\n",
       "      <td>2.0</td>\n",
       "      <td>VMC</td>\n",
       "      <td>LANDING</td>\n",
       "    </tr>\n",
       "    <tr>\n",
       "      <th>2</th>\n",
       "      <td>13/11/2016</td>\n",
       "      <td>Port Allen, LA</td>\n",
       "      <td>United States</td>\n",
       "      <td>30.532500</td>\n",
       "      <td>-91.3150</td>\n",
       "      <td>LA46</td>\n",
       "      <td>OMNI</td>\n",
       "      <td>Non-Fatal</td>\n",
       "      <td>Substantial</td>\n",
       "      <td>Airplane</td>\n",
       "      <td>...</td>\n",
       "      <td>No</td>\n",
       "      <td>1.0</td>\n",
       "      <td>Reciprocating</td>\n",
       "      <td>Personal</td>\n",
       "      <td>NaN</td>\n",
       "      <td>NaN</td>\n",
       "      <td>NaN</td>\n",
       "      <td>1.0</td>\n",
       "      <td>VMC</td>\n",
       "      <td>TAKEOFF</td>\n",
       "    </tr>\n",
       "    <tr>\n",
       "      <th>3</th>\n",
       "      <td>12/11/2016</td>\n",
       "      <td>Taylor, AZ</td>\n",
       "      <td>United States</td>\n",
       "      <td>34.454722</td>\n",
       "      <td>-110.0575</td>\n",
       "      <td>NaN</td>\n",
       "      <td>NaN</td>\n",
       "      <td>Non-Fatal</td>\n",
       "      <td>Substantial</td>\n",
       "      <td>Airplane</td>\n",
       "      <td>...</td>\n",
       "      <td>No</td>\n",
       "      <td>1.0</td>\n",
       "      <td>Reciprocating</td>\n",
       "      <td>Instructional</td>\n",
       "      <td>NaN</td>\n",
       "      <td>NaN</td>\n",
       "      <td>NaN</td>\n",
       "      <td>2.0</td>\n",
       "      <td>VMC</td>\n",
       "      <td>MANEUVERING</td>\n",
       "    </tr>\n",
       "    <tr>\n",
       "      <th>4</th>\n",
       "      <td>12/11/2016</td>\n",
       "      <td>Pleasanton, TX</td>\n",
       "      <td>United States</td>\n",
       "      <td>NaN</td>\n",
       "      <td>NaN</td>\n",
       "      <td>NaN</td>\n",
       "      <td>NaN</td>\n",
       "      <td>Non-Fatal</td>\n",
       "      <td>Substantial</td>\n",
       "      <td>Airplane</td>\n",
       "      <td>...</td>\n",
       "      <td>No</td>\n",
       "      <td>1.0</td>\n",
       "      <td>Reciprocating</td>\n",
       "      <td>Personal</td>\n",
       "      <td>NaN</td>\n",
       "      <td>1.0</td>\n",
       "      <td>NaN</td>\n",
       "      <td>1.0</td>\n",
       "      <td>VMC</td>\n",
       "      <td>NaN</td>\n",
       "    </tr>\n",
       "  </tbody>\n",
       "</table>\n",
       "<p>5 rows × 22 columns</p>\n",
       "</div>"
      ],
      "text/plain": [
       "   EVENT_DATE             LOCATION        COUNTRY   LATITUDE  LONGITUDE  \\\n",
       "0  14/11/2016  Winton, New Zealand    New Zealand        NaN        NaN   \n",
       "1  14/11/2016      Albrook, Panama         Panama        NaN        NaN   \n",
       "2  13/11/2016       Port Allen, LA  United States  30.532500   -91.3150   \n",
       "3  12/11/2016           Taylor, AZ  United States  34.454722  -110.0575   \n",
       "4  12/11/2016       Pleasanton, TX  United States        NaN        NaN   \n",
       "\n",
       "  AIRPORT_CODE              AIRPORT_NAME INJURY_SEVERITY AIRCRAFT_DAMAGE  \\\n",
       "0          NaN                       NaN       Non-Fatal     Substantial   \n",
       "1         MPMG  Marcos A. Gelabert Intl.       Non-Fatal     Substantial   \n",
       "2         LA46                      OMNI       Non-Fatal     Substantial   \n",
       "3          NaN                       NaN       Non-Fatal     Substantial   \n",
       "4          NaN                       NaN       Non-Fatal     Substantial   \n",
       "\n",
       "  AIRCRAFT_CATEGORY  ... AMATEUR_BUILT NUMBER_OF_ENGINES    ENGINE_TYPE  \\\n",
       "0        Helicopter  ...            No               1.0    Turbo Shaft   \n",
       "1          Airplane  ...            No               NaN            NaN   \n",
       "2          Airplane  ...            No               1.0  Reciprocating   \n",
       "3          Airplane  ...            No               1.0  Reciprocating   \n",
       "4          Airplane  ...            No               1.0  Reciprocating   \n",
       "\n",
       "   PURPOSE_OF_FLIGHT TOTAL_FATAL_INJURIES TOTAL_SERIOUS_INJURIES  \\\n",
       "0                NaN                  NaN                    NaN   \n",
       "1                NaN                  NaN                    NaN   \n",
       "2           Personal                  NaN                    NaN   \n",
       "3      Instructional                  NaN                    NaN   \n",
       "4           Personal                  NaN                    1.0   \n",
       "\n",
       "   TOTAL_MINOR_INJURIES  TOTAL_UNINJURED  WEATHER_CONDITION  \\\n",
       "0                   NaN              1.0                NaN   \n",
       "1                   NaN              2.0                VMC   \n",
       "2                   NaN              1.0                VMC   \n",
       "3                   NaN              2.0                VMC   \n",
       "4                   NaN              1.0                VMC   \n",
       "\n",
       "   BROAD_PHASE_OF_FLIGHT  \n",
       "0            MANEUVERING  \n",
       "1                LANDING  \n",
       "2                TAKEOFF  \n",
       "3            MANEUVERING  \n",
       "4                    NaN  \n",
       "\n",
       "[5 rows x 22 columns]"
      ]
     },
     "execution_count": 20,
     "metadata": {},
     "output_type": "execute_result"
    }
   ],
   "source": [
    "# import data set to the colab notebook\n",
    "data = pd.read_csv(\"AviationDataUP_edited.csv\")\n",
    "# data cleaning\n",
    "data.columns = data.columns.str.upper() # change all co \n",
    "data.columns = data.columns.str.replace(\".\", \"_\")\n",
    "# print basic information for the data frame\n",
    "print(\"Data type : \", type(data))\n",
    "print(\"Data dims : \", data.shape)\n",
    "# first 5 records in the data frame\n",
    "data.head()"
   ]
  },
  {
   "cell_type": "markdown",
   "metadata": {},
   "source": [
    "# Exploratory Data Analysis / Visualization"
   ]
  },
  {
   "cell_type": "markdown",
   "metadata": {},
   "source": [
    "# Basic statistics"
   ]
  },
  {
   "cell_type": "code",
   "execution_count": 86,
   "metadata": {
    "scrolled": true
   },
   "outputs": [
    {
     "name": "stdout",
     "output_type": "stream",
     "text": [
      "<class 'pandas.core.frame.DataFrame'>\n",
      "RangeIndex: 79141 entries, 0 to 79140\n",
      "Data columns (total 22 columns):\n",
      "EVENT_DATE                79141 non-null object\n",
      "LOCATION                  79063 non-null object\n",
      "COUNTRY                   78634 non-null object\n",
      "LATITUDE                  25614 non-null float64\n",
      "LONGITUDE                 25605 non-null float64\n",
      "AIRPORT_CODE              44577 non-null object\n",
      "AIRPORT_NAME              47348 non-null object\n",
      "INJURY_SEVERITY           79141 non-null object\n",
      "AIRCRAFT_DAMAGE           76742 non-null object\n",
      "AIRCRAFT_CATEGORY         22324 non-null object\n",
      "MAKE                      79052 non-null object\n",
      "MODEL                     79023 non-null object\n",
      "AMATEUR_BUILT             78573 non-null object\n",
      "NUMBER_OF_ENGINES         75056 non-null float64\n",
      "ENGINE_TYPE               75779 non-null object\n",
      "PURPOSE_OF_FLIGHT         75288 non-null object\n",
      "TOTAL_FATAL_INJURIES      55944 non-null float64\n",
      "TOTAL_SERIOUS_INJURIES    53724 non-null float64\n",
      "TOTAL_MINOR_INJURIES      54812 non-null float64\n",
      "TOTAL_UNINJURED           66860 non-null float64\n",
      "WEATHER_CONDITION         77012 non-null object\n",
      "BROAD_PHASE_OF_FLIGHT     73087 non-null object\n",
      "dtypes: float64(7), object(15)\n",
      "memory usage: 13.3+ MB\n"
     ]
    }
   ],
   "source": [
    "# data general information\n",
    "data.info()"
   ]
  },
  {
   "cell_type": "code",
   "execution_count": 87,
   "metadata": {},
   "outputs": [
    {
     "data": {
      "text/html": [
       "<div>\n",
       "<style scoped>\n",
       "    .dataframe tbody tr th:only-of-type {\n",
       "        vertical-align: middle;\n",
       "    }\n",
       "\n",
       "    .dataframe tbody tr th {\n",
       "        vertical-align: top;\n",
       "    }\n",
       "\n",
       "    .dataframe thead th {\n",
       "        text-align: right;\n",
       "    }\n",
       "</style>\n",
       "<table border=\"1\" class=\"dataframe\">\n",
       "  <thead>\n",
       "    <tr style=\"text-align: right;\">\n",
       "      <th></th>\n",
       "      <th>LATITUDE</th>\n",
       "      <th>LONGITUDE</th>\n",
       "      <th>NUMBER_OF_ENGINES</th>\n",
       "      <th>TOTAL_FATAL_INJURIES</th>\n",
       "      <th>TOTAL_SERIOUS_INJURIES</th>\n",
       "      <th>TOTAL_MINOR_INJURIES</th>\n",
       "      <th>TOTAL_UNINJURED</th>\n",
       "    </tr>\n",
       "  </thead>\n",
       "  <tbody>\n",
       "    <tr>\n",
       "      <th>count</th>\n",
       "      <td>25614.000000</td>\n",
       "      <td>25605.000000</td>\n",
       "      <td>75056.000000</td>\n",
       "      <td>55944.000000</td>\n",
       "      <td>53724.000000</td>\n",
       "      <td>54812.000000</td>\n",
       "      <td>66860.000000</td>\n",
       "    </tr>\n",
       "    <tr>\n",
       "      <th>mean</th>\n",
       "      <td>37.703398</td>\n",
       "      <td>-93.777278</td>\n",
       "      <td>1.147970</td>\n",
       "      <td>0.814082</td>\n",
       "      <td>0.317381</td>\n",
       "      <td>0.501806</td>\n",
       "      <td>5.781050</td>\n",
       "    </tr>\n",
       "    <tr>\n",
       "      <th>std</th>\n",
       "      <td>12.104792</td>\n",
       "      <td>39.207853</td>\n",
       "      <td>0.453804</td>\n",
       "      <td>6.235832</td>\n",
       "      <td>1.373004</td>\n",
       "      <td>2.780169</td>\n",
       "      <td>29.207045</td>\n",
       "    </tr>\n",
       "    <tr>\n",
       "      <th>min</th>\n",
       "      <td>-78.016945</td>\n",
       "      <td>-178.676111</td>\n",
       "      <td>0.000000</td>\n",
       "      <td>0.000000</td>\n",
       "      <td>0.000000</td>\n",
       "      <td>0.000000</td>\n",
       "      <td>0.000000</td>\n",
       "    </tr>\n",
       "    <tr>\n",
       "      <th>25%</th>\n",
       "      <td>33.384166</td>\n",
       "      <td>-114.997222</td>\n",
       "      <td>1.000000</td>\n",
       "      <td>0.000000</td>\n",
       "      <td>0.000000</td>\n",
       "      <td>0.000000</td>\n",
       "      <td>0.000000</td>\n",
       "    </tr>\n",
       "    <tr>\n",
       "      <th>50%</th>\n",
       "      <td>38.182916</td>\n",
       "      <td>-94.498055</td>\n",
       "      <td>1.000000</td>\n",
       "      <td>0.000000</td>\n",
       "      <td>0.000000</td>\n",
       "      <td>0.000000</td>\n",
       "      <td>1.000000</td>\n",
       "    </tr>\n",
       "    <tr>\n",
       "      <th>75%</th>\n",
       "      <td>42.568125</td>\n",
       "      <td>-81.731667</td>\n",
       "      <td>1.000000</td>\n",
       "      <td>1.000000</td>\n",
       "      <td>0.000000</td>\n",
       "      <td>1.000000</td>\n",
       "      <td>2.000000</td>\n",
       "    </tr>\n",
       "    <tr>\n",
       "      <th>max</th>\n",
       "      <td>89.218056</td>\n",
       "      <td>177.557778</td>\n",
       "      <td>18.000000</td>\n",
       "      <td>349.000000</td>\n",
       "      <td>111.000000</td>\n",
       "      <td>380.000000</td>\n",
       "      <td>699.000000</td>\n",
       "    </tr>\n",
       "  </tbody>\n",
       "</table>\n",
       "</div>"
      ],
      "text/plain": [
       "           LATITUDE     LONGITUDE  NUMBER_OF_ENGINES  TOTAL_FATAL_INJURIES  \\\n",
       "count  25614.000000  25605.000000       75056.000000          55944.000000   \n",
       "mean      37.703398    -93.777278           1.147970              0.814082   \n",
       "std       12.104792     39.207853           0.453804              6.235832   \n",
       "min      -78.016945   -178.676111           0.000000              0.000000   \n",
       "25%       33.384166   -114.997222           1.000000              0.000000   \n",
       "50%       38.182916    -94.498055           1.000000              0.000000   \n",
       "75%       42.568125    -81.731667           1.000000              1.000000   \n",
       "max       89.218056    177.557778          18.000000            349.000000   \n",
       "\n",
       "       TOTAL_SERIOUS_INJURIES  TOTAL_MINOR_INJURIES  TOTAL_UNINJURED  \n",
       "count            53724.000000          54812.000000     66860.000000  \n",
       "mean                 0.317381              0.501806         5.781050  \n",
       "std                  1.373004              2.780169        29.207045  \n",
       "min                  0.000000              0.000000         0.000000  \n",
       "25%                  0.000000              0.000000         0.000000  \n",
       "50%                  0.000000              0.000000         1.000000  \n",
       "75%                  0.000000              1.000000         2.000000  \n",
       "max                111.000000            380.000000       699.000000  "
      ]
     },
     "execution_count": 87,
     "metadata": {},
     "output_type": "execute_result"
    }
   ],
   "source": [
    "# numerical data statistics description\n",
    "data.describe()"
   ]
  },
  {
   "cell_type": "code",
   "execution_count": 88,
   "metadata": {},
   "outputs": [
    {
     "data": {
      "text/html": [
       "<div>\n",
       "<style scoped>\n",
       "    .dataframe tbody tr th:only-of-type {\n",
       "        vertical-align: middle;\n",
       "    }\n",
       "\n",
       "    .dataframe tbody tr th {\n",
       "        vertical-align: top;\n",
       "    }\n",
       "\n",
       "    .dataframe thead th {\n",
       "        text-align: right;\n",
       "    }\n",
       "</style>\n",
       "<table border=\"1\" class=\"dataframe\">\n",
       "  <thead>\n",
       "    <tr style=\"text-align: right;\">\n",
       "      <th></th>\n",
       "      <th>EVENT_DATE</th>\n",
       "      <th>LOCATION</th>\n",
       "      <th>COUNTRY</th>\n",
       "      <th>AIRPORT_CODE</th>\n",
       "      <th>AIRPORT_NAME</th>\n",
       "      <th>INJURY_SEVERITY</th>\n",
       "      <th>AIRCRAFT_DAMAGE</th>\n",
       "      <th>AIRCRAFT_CATEGORY</th>\n",
       "      <th>MAKE</th>\n",
       "      <th>MODEL</th>\n",
       "      <th>AMATEUR_BUILT</th>\n",
       "      <th>ENGINE_TYPE</th>\n",
       "      <th>PURPOSE_OF_FLIGHT</th>\n",
       "      <th>WEATHER_CONDITION</th>\n",
       "      <th>BROAD_PHASE_OF_FLIGHT</th>\n",
       "    </tr>\n",
       "  </thead>\n",
       "  <tbody>\n",
       "    <tr>\n",
       "      <th>count</th>\n",
       "      <td>79141</td>\n",
       "      <td>79063</td>\n",
       "      <td>78634</td>\n",
       "      <td>44577</td>\n",
       "      <td>47348</td>\n",
       "      <td>79141</td>\n",
       "      <td>76742</td>\n",
       "      <td>22324</td>\n",
       "      <td>79052</td>\n",
       "      <td>79023</td>\n",
       "      <td>78573</td>\n",
       "      <td>75779</td>\n",
       "      <td>75288</td>\n",
       "      <td>77012</td>\n",
       "      <td>73087</td>\n",
       "    </tr>\n",
       "    <tr>\n",
       "      <th>unique</th>\n",
       "      <td>12596</td>\n",
       "      <td>25228</td>\n",
       "      <td>177</td>\n",
       "      <td>9622</td>\n",
       "      <td>22729</td>\n",
       "      <td>124</td>\n",
       "      <td>3</td>\n",
       "      <td>13</td>\n",
       "      <td>7452</td>\n",
       "      <td>11304</td>\n",
       "      <td>2</td>\n",
       "      <td>14</td>\n",
       "      <td>22</td>\n",
       "      <td>3</td>\n",
       "      <td>12</td>\n",
       "    </tr>\n",
       "    <tr>\n",
       "      <th>top</th>\n",
       "      <td>30/6/1984</td>\n",
       "      <td>ANCHORAGE, AK</td>\n",
       "      <td>United States</td>\n",
       "      <td>NONE</td>\n",
       "      <td>PRIVATE</td>\n",
       "      <td>Non-Fatal</td>\n",
       "      <td>Substantial</td>\n",
       "      <td>Airplane</td>\n",
       "      <td>CESSNA</td>\n",
       "      <td>152</td>\n",
       "      <td>No</td>\n",
       "      <td>Reciprocating</td>\n",
       "      <td>Personal</td>\n",
       "      <td>VMC</td>\n",
       "      <td>LANDING</td>\n",
       "    </tr>\n",
       "    <tr>\n",
       "      <th>freq</th>\n",
       "      <td>25</td>\n",
       "      <td>372</td>\n",
       "      <td>74616</td>\n",
       "      <td>1464</td>\n",
       "      <td>215</td>\n",
       "      <td>59929</td>\n",
       "      <td>56939</td>\n",
       "      <td>19138</td>\n",
       "      <td>17071</td>\n",
       "      <td>2274</td>\n",
       "      <td>70975</td>\n",
       "      <td>64480</td>\n",
       "      <td>44469</td>\n",
       "      <td>70390</td>\n",
       "      <td>19151</td>\n",
       "    </tr>\n",
       "  </tbody>\n",
       "</table>\n",
       "</div>"
      ],
      "text/plain": [
       "       EVENT_DATE       LOCATION        COUNTRY AIRPORT_CODE AIRPORT_NAME  \\\n",
       "count       79141          79063          78634        44577        47348   \n",
       "unique      12596          25228            177         9622        22729   \n",
       "top     30/6/1984  ANCHORAGE, AK  United States         NONE      PRIVATE   \n",
       "freq           25            372          74616         1464          215   \n",
       "\n",
       "       INJURY_SEVERITY AIRCRAFT_DAMAGE AIRCRAFT_CATEGORY    MAKE  MODEL  \\\n",
       "count            79141           76742             22324   79052  79023   \n",
       "unique             124               3                13    7452  11304   \n",
       "top          Non-Fatal     Substantial          Airplane  CESSNA    152   \n",
       "freq             59929           56939             19138   17071   2274   \n",
       "\n",
       "       AMATEUR_BUILT    ENGINE_TYPE PURPOSE_OF_FLIGHT WEATHER_CONDITION  \\\n",
       "count          78573          75779             75288             77012   \n",
       "unique             2             14                22                 3   \n",
       "top               No  Reciprocating          Personal               VMC   \n",
       "freq           70975          64480             44469             70390   \n",
       "\n",
       "       BROAD_PHASE_OF_FLIGHT  \n",
       "count                  73087  \n",
       "unique                    12  \n",
       "top                  LANDING  \n",
       "freq                   19151  "
      ]
     },
     "execution_count": 88,
     "metadata": {},
     "output_type": "execute_result"
    }
   ],
   "source": [
    "# for categorical value\n",
    "categorical = pd.DataFrame(data).select_dtypes(exclude = [np.number])\n",
    "categorical.describe()"
   ]
  },
  {
   "cell_type": "markdown",
   "metadata": {},
   "source": [
    "## Location visualization"
   ]
  },
  {
   "cell_type": "code",
   "execution_count": 179,
   "metadata": {
    "scrolled": true
   },
   "outputs": [
    {
     "data": {
      "application/vnd.plotly.v1+json": {
       "config": {
        "plotlyServerURL": "https://plot.ly"
       },
       "data": [
        {
         "coloraxis": "coloraxis",
         "geo": "geo",
         "hoverlabel": {
          "namelength": 0
         },
         "hovertemplate": "locations=%{location}<br>color=%{z}",
         "locationmode": "USA-states",
         "locations": [
          "AK",
          "FL",
          "IL",
          "NM",
          "TX",
          "AK",
          "AK",
          "FL",
          "AZ",
          "CO",
          "AZ",
          "FL",
          "TX",
          "NV",
          "GA",
          "CO",
          "AZ",
          "NV",
          "CA",
          "WA",
          "NM",
          "AZ",
          "AK",
          "CA",
          "TX",
          "CA",
          "AK",
          "CA",
          "GA",
          "AK",
          "CO",
          "IN",
          "AN",
          "AZ",
          "CA",
          "IL",
          "WI",
          "CA",
          "FL",
          "FL",
          "AK",
          "TX",
          "AK",
          "AZ",
          "OK",
          "UT",
          "FL",
          "OH",
          "AK",
          "FL",
          "NV",
          "AK",
          "AK",
          "CA",
          "TX",
          "AZ",
          "FL",
          "AZ",
          "TX",
          "MI",
          "NV",
          "FL",
          "CA",
          "CO",
          "CA",
          "MO",
          "AZ",
          "AK",
          "CO",
          "OK",
          "CA",
          "FL",
          "CA",
          "CA",
          "AN",
          "AK",
          "AK",
          "CA",
          "AZ",
          "TN",
          "CO",
          "TN",
          "AK",
          "AK",
          "HI",
          "TX",
          "AZ",
          "CA",
          "AZ",
          "UT",
          "AK",
          "CO",
          "CA",
          "AK",
          "MT",
          "WI",
          "AZ",
          "AK",
          "OR",
          "IL"
         ],
         "name": "",
         "type": "choropleth",
         "z": [
          1,
          2,
          3,
          4,
          5,
          6,
          7,
          8,
          9,
          10,
          11,
          12,
          13,
          14,
          15,
          16,
          17,
          18,
          19,
          20,
          21,
          22,
          23,
          24,
          25,
          26,
          27,
          28,
          29,
          30,
          31,
          32,
          33,
          34,
          35,
          36,
          37,
          38,
          39,
          40,
          41,
          42,
          43,
          44,
          45,
          46,
          47,
          48,
          49,
          50,
          51,
          52,
          53,
          54,
          55,
          56,
          57,
          58,
          59,
          60,
          61,
          62,
          63,
          64,
          65,
          66,
          67,
          68,
          69,
          70,
          71,
          72,
          73,
          74,
          75,
          76,
          77,
          78,
          79,
          80,
          81,
          82,
          83,
          84,
          85,
          86,
          87,
          88,
          89,
          90,
          91,
          92,
          93,
          94,
          95,
          96,
          97,
          98,
          99,
          100
         ]
        }
       ],
       "layout": {
        "coloraxis": {
         "colorbar": {
          "title": {
           "text": "color"
          }
         },
         "colorscale": [
          [
           0,
           "#0d0887"
          ],
          [
           0.1111111111111111,
           "#46039f"
          ],
          [
           0.2222222222222222,
           "#7201a8"
          ],
          [
           0.3333333333333333,
           "#9c179e"
          ],
          [
           0.4444444444444444,
           "#bd3786"
          ],
          [
           0.5555555555555556,
           "#d8576b"
          ],
          [
           0.6666666666666666,
           "#ed7953"
          ],
          [
           0.7777777777777778,
           "#fb9f3a"
          ],
          [
           0.8888888888888888,
           "#fdca26"
          ],
          [
           1,
           "#f0f921"
          ]
         ]
        },
        "geo": {
         "center": {},
         "domain": {
          "x": [
           0,
           1
          ],
          "y": [
           0,
           1
          ]
         },
         "scope": "usa"
        },
        "legend": {
         "tracegroupgap": 0
        },
        "margin": {
         "t": 60
        },
        "template": {
         "data": {
          "bar": [
           {
            "error_x": {
             "color": "#2a3f5f"
            },
            "error_y": {
             "color": "#2a3f5f"
            },
            "marker": {
             "line": {
              "color": "#E5ECF6",
              "width": 0.5
             }
            },
            "type": "bar"
           }
          ],
          "barpolar": [
           {
            "marker": {
             "line": {
              "color": "#E5ECF6",
              "width": 0.5
             }
            },
            "type": "barpolar"
           }
          ],
          "carpet": [
           {
            "aaxis": {
             "endlinecolor": "#2a3f5f",
             "gridcolor": "white",
             "linecolor": "white",
             "minorgridcolor": "white",
             "startlinecolor": "#2a3f5f"
            },
            "baxis": {
             "endlinecolor": "#2a3f5f",
             "gridcolor": "white",
             "linecolor": "white",
             "minorgridcolor": "white",
             "startlinecolor": "#2a3f5f"
            },
            "type": "carpet"
           }
          ],
          "choropleth": [
           {
            "colorbar": {
             "outlinewidth": 0,
             "ticks": ""
            },
            "type": "choropleth"
           }
          ],
          "contour": [
           {
            "colorbar": {
             "outlinewidth": 0,
             "ticks": ""
            },
            "colorscale": [
             [
              0,
              "#0d0887"
             ],
             [
              0.1111111111111111,
              "#46039f"
             ],
             [
              0.2222222222222222,
              "#7201a8"
             ],
             [
              0.3333333333333333,
              "#9c179e"
             ],
             [
              0.4444444444444444,
              "#bd3786"
             ],
             [
              0.5555555555555556,
              "#d8576b"
             ],
             [
              0.6666666666666666,
              "#ed7953"
             ],
             [
              0.7777777777777778,
              "#fb9f3a"
             ],
             [
              0.8888888888888888,
              "#fdca26"
             ],
             [
              1,
              "#f0f921"
             ]
            ],
            "type": "contour"
           }
          ],
          "contourcarpet": [
           {
            "colorbar": {
             "outlinewidth": 0,
             "ticks": ""
            },
            "type": "contourcarpet"
           }
          ],
          "heatmap": [
           {
            "colorbar": {
             "outlinewidth": 0,
             "ticks": ""
            },
            "colorscale": [
             [
              0,
              "#0d0887"
             ],
             [
              0.1111111111111111,
              "#46039f"
             ],
             [
              0.2222222222222222,
              "#7201a8"
             ],
             [
              0.3333333333333333,
              "#9c179e"
             ],
             [
              0.4444444444444444,
              "#bd3786"
             ],
             [
              0.5555555555555556,
              "#d8576b"
             ],
             [
              0.6666666666666666,
              "#ed7953"
             ],
             [
              0.7777777777777778,
              "#fb9f3a"
             ],
             [
              0.8888888888888888,
              "#fdca26"
             ],
             [
              1,
              "#f0f921"
             ]
            ],
            "type": "heatmap"
           }
          ],
          "heatmapgl": [
           {
            "colorbar": {
             "outlinewidth": 0,
             "ticks": ""
            },
            "colorscale": [
             [
              0,
              "#0d0887"
             ],
             [
              0.1111111111111111,
              "#46039f"
             ],
             [
              0.2222222222222222,
              "#7201a8"
             ],
             [
              0.3333333333333333,
              "#9c179e"
             ],
             [
              0.4444444444444444,
              "#bd3786"
             ],
             [
              0.5555555555555556,
              "#d8576b"
             ],
             [
              0.6666666666666666,
              "#ed7953"
             ],
             [
              0.7777777777777778,
              "#fb9f3a"
             ],
             [
              0.8888888888888888,
              "#fdca26"
             ],
             [
              1,
              "#f0f921"
             ]
            ],
            "type": "heatmapgl"
           }
          ],
          "histogram": [
           {
            "marker": {
             "colorbar": {
              "outlinewidth": 0,
              "ticks": ""
             }
            },
            "type": "histogram"
           }
          ],
          "histogram2d": [
           {
            "colorbar": {
             "outlinewidth": 0,
             "ticks": ""
            },
            "colorscale": [
             [
              0,
              "#0d0887"
             ],
             [
              0.1111111111111111,
              "#46039f"
             ],
             [
              0.2222222222222222,
              "#7201a8"
             ],
             [
              0.3333333333333333,
              "#9c179e"
             ],
             [
              0.4444444444444444,
              "#bd3786"
             ],
             [
              0.5555555555555556,
              "#d8576b"
             ],
             [
              0.6666666666666666,
              "#ed7953"
             ],
             [
              0.7777777777777778,
              "#fb9f3a"
             ],
             [
              0.8888888888888888,
              "#fdca26"
             ],
             [
              1,
              "#f0f921"
             ]
            ],
            "type": "histogram2d"
           }
          ],
          "histogram2dcontour": [
           {
            "colorbar": {
             "outlinewidth": 0,
             "ticks": ""
            },
            "colorscale": [
             [
              0,
              "#0d0887"
             ],
             [
              0.1111111111111111,
              "#46039f"
             ],
             [
              0.2222222222222222,
              "#7201a8"
             ],
             [
              0.3333333333333333,
              "#9c179e"
             ],
             [
              0.4444444444444444,
              "#bd3786"
             ],
             [
              0.5555555555555556,
              "#d8576b"
             ],
             [
              0.6666666666666666,
              "#ed7953"
             ],
             [
              0.7777777777777778,
              "#fb9f3a"
             ],
             [
              0.8888888888888888,
              "#fdca26"
             ],
             [
              1,
              "#f0f921"
             ]
            ],
            "type": "histogram2dcontour"
           }
          ],
          "mesh3d": [
           {
            "colorbar": {
             "outlinewidth": 0,
             "ticks": ""
            },
            "type": "mesh3d"
           }
          ],
          "parcoords": [
           {
            "line": {
             "colorbar": {
              "outlinewidth": 0,
              "ticks": ""
             }
            },
            "type": "parcoords"
           }
          ],
          "pie": [
           {
            "automargin": true,
            "type": "pie"
           }
          ],
          "scatter": [
           {
            "marker": {
             "colorbar": {
              "outlinewidth": 0,
              "ticks": ""
             }
            },
            "type": "scatter"
           }
          ],
          "scatter3d": [
           {
            "line": {
             "colorbar": {
              "outlinewidth": 0,
              "ticks": ""
             }
            },
            "marker": {
             "colorbar": {
              "outlinewidth": 0,
              "ticks": ""
             }
            },
            "type": "scatter3d"
           }
          ],
          "scattercarpet": [
           {
            "marker": {
             "colorbar": {
              "outlinewidth": 0,
              "ticks": ""
             }
            },
            "type": "scattercarpet"
           }
          ],
          "scattergeo": [
           {
            "marker": {
             "colorbar": {
              "outlinewidth": 0,
              "ticks": ""
             }
            },
            "type": "scattergeo"
           }
          ],
          "scattergl": [
           {
            "marker": {
             "colorbar": {
              "outlinewidth": 0,
              "ticks": ""
             }
            },
            "type": "scattergl"
           }
          ],
          "scattermapbox": [
           {
            "marker": {
             "colorbar": {
              "outlinewidth": 0,
              "ticks": ""
             }
            },
            "type": "scattermapbox"
           }
          ],
          "scatterpolar": [
           {
            "marker": {
             "colorbar": {
              "outlinewidth": 0,
              "ticks": ""
             }
            },
            "type": "scatterpolar"
           }
          ],
          "scatterpolargl": [
           {
            "marker": {
             "colorbar": {
              "outlinewidth": 0,
              "ticks": ""
             }
            },
            "type": "scatterpolargl"
           }
          ],
          "scatterternary": [
           {
            "marker": {
             "colorbar": {
              "outlinewidth": 0,
              "ticks": ""
             }
            },
            "type": "scatterternary"
           }
          ],
          "surface": [
           {
            "colorbar": {
             "outlinewidth": 0,
             "ticks": ""
            },
            "colorscale": [
             [
              0,
              "#0d0887"
             ],
             [
              0.1111111111111111,
              "#46039f"
             ],
             [
              0.2222222222222222,
              "#7201a8"
             ],
             [
              0.3333333333333333,
              "#9c179e"
             ],
             [
              0.4444444444444444,
              "#bd3786"
             ],
             [
              0.5555555555555556,
              "#d8576b"
             ],
             [
              0.6666666666666666,
              "#ed7953"
             ],
             [
              0.7777777777777778,
              "#fb9f3a"
             ],
             [
              0.8888888888888888,
              "#fdca26"
             ],
             [
              1,
              "#f0f921"
             ]
            ],
            "type": "surface"
           }
          ],
          "table": [
           {
            "cells": {
             "fill": {
              "color": "#EBF0F8"
             },
             "line": {
              "color": "white"
             }
            },
            "header": {
             "fill": {
              "color": "#C8D4E3"
             },
             "line": {
              "color": "white"
             }
            },
            "type": "table"
           }
          ]
         },
         "layout": {
          "annotationdefaults": {
           "arrowcolor": "#2a3f5f",
           "arrowhead": 0,
           "arrowwidth": 1
          },
          "coloraxis": {
           "colorbar": {
            "outlinewidth": 0,
            "ticks": ""
           }
          },
          "colorscale": {
           "diverging": [
            [
             0,
             "#8e0152"
            ],
            [
             0.1,
             "#c51b7d"
            ],
            [
             0.2,
             "#de77ae"
            ],
            [
             0.3,
             "#f1b6da"
            ],
            [
             0.4,
             "#fde0ef"
            ],
            [
             0.5,
             "#f7f7f7"
            ],
            [
             0.6,
             "#e6f5d0"
            ],
            [
             0.7,
             "#b8e186"
            ],
            [
             0.8,
             "#7fbc41"
            ],
            [
             0.9,
             "#4d9221"
            ],
            [
             1,
             "#276419"
            ]
           ],
           "sequential": [
            [
             0,
             "#0d0887"
            ],
            [
             0.1111111111111111,
             "#46039f"
            ],
            [
             0.2222222222222222,
             "#7201a8"
            ],
            [
             0.3333333333333333,
             "#9c179e"
            ],
            [
             0.4444444444444444,
             "#bd3786"
            ],
            [
             0.5555555555555556,
             "#d8576b"
            ],
            [
             0.6666666666666666,
             "#ed7953"
            ],
            [
             0.7777777777777778,
             "#fb9f3a"
            ],
            [
             0.8888888888888888,
             "#fdca26"
            ],
            [
             1,
             "#f0f921"
            ]
           ],
           "sequentialminus": [
            [
             0,
             "#0d0887"
            ],
            [
             0.1111111111111111,
             "#46039f"
            ],
            [
             0.2222222222222222,
             "#7201a8"
            ],
            [
             0.3333333333333333,
             "#9c179e"
            ],
            [
             0.4444444444444444,
             "#bd3786"
            ],
            [
             0.5555555555555556,
             "#d8576b"
            ],
            [
             0.6666666666666666,
             "#ed7953"
            ],
            [
             0.7777777777777778,
             "#fb9f3a"
            ],
            [
             0.8888888888888888,
             "#fdca26"
            ],
            [
             1,
             "#f0f921"
            ]
           ]
          },
          "colorway": [
           "#636efa",
           "#EF553B",
           "#00cc96",
           "#ab63fa",
           "#FFA15A",
           "#19d3f3",
           "#FF6692",
           "#B6E880",
           "#FF97FF",
           "#FECB52"
          ],
          "font": {
           "color": "#2a3f5f"
          },
          "geo": {
           "bgcolor": "white",
           "lakecolor": "white",
           "landcolor": "#E5ECF6",
           "showlakes": true,
           "showland": true,
           "subunitcolor": "white"
          },
          "hoverlabel": {
           "align": "left"
          },
          "hovermode": "closest",
          "mapbox": {
           "style": "light"
          },
          "paper_bgcolor": "white",
          "plot_bgcolor": "#E5ECF6",
          "polar": {
           "angularaxis": {
            "gridcolor": "white",
            "linecolor": "white",
            "ticks": ""
           },
           "bgcolor": "#E5ECF6",
           "radialaxis": {
            "gridcolor": "white",
            "linecolor": "white",
            "ticks": ""
           }
          },
          "scene": {
           "xaxis": {
            "backgroundcolor": "#E5ECF6",
            "gridcolor": "white",
            "gridwidth": 2,
            "linecolor": "white",
            "showbackground": true,
            "ticks": "",
            "zerolinecolor": "white"
           },
           "yaxis": {
            "backgroundcolor": "#E5ECF6",
            "gridcolor": "white",
            "gridwidth": 2,
            "linecolor": "white",
            "showbackground": true,
            "ticks": "",
            "zerolinecolor": "white"
           },
           "zaxis": {
            "backgroundcolor": "#E5ECF6",
            "gridcolor": "white",
            "gridwidth": 2,
            "linecolor": "white",
            "showbackground": true,
            "ticks": "",
            "zerolinecolor": "white"
           }
          },
          "shapedefaults": {
           "line": {
            "color": "#2a3f5f"
           }
          },
          "ternary": {
           "aaxis": {
            "gridcolor": "white",
            "linecolor": "white",
            "ticks": ""
           },
           "baxis": {
            "gridcolor": "white",
            "linecolor": "white",
            "ticks": ""
           },
           "bgcolor": "#E5ECF6",
           "caxis": {
            "gridcolor": "white",
            "linecolor": "white",
            "ticks": ""
           }
          },
          "title": {
           "x": 0.05
          },
          "xaxis": {
           "automargin": true,
           "gridcolor": "white",
           "linecolor": "white",
           "ticks": "",
           "title": {
            "standoff": 15
           },
           "zerolinecolor": "white",
           "zerolinewidth": 2
          },
          "yaxis": {
           "automargin": true,
           "gridcolor": "white",
           "linecolor": "white",
           "ticks": "",
           "title": {
            "standoff": 15
           },
           "zerolinecolor": "white",
           "zerolinewidth": 2
          }
         }
        }
       }
      },
      "text/html": [
       "<div>\n",
       "        \n",
       "        \n",
       "            <div id=\"51b92eed-0230-47aa-aaa8-96fe211e1afb\" class=\"plotly-graph-div\" style=\"height:525px; width:100%;\"></div>\n",
       "            <script type=\"text/javascript\">\n",
       "                require([\"plotly\"], function(Plotly) {\n",
       "                    window.PLOTLYENV=window.PLOTLYENV || {};\n",
       "                    \n",
       "                if (document.getElementById(\"51b92eed-0230-47aa-aaa8-96fe211e1afb\")) {\n",
       "                    Plotly.newPlot(\n",
       "                        '51b92eed-0230-47aa-aaa8-96fe211e1afb',\n",
       "                        [{\"coloraxis\": \"coloraxis\", \"geo\": \"geo\", \"hoverlabel\": {\"namelength\": 0}, \"hovertemplate\": \"locations=%{location}<br>color=%{z}\", \"locationmode\": \"USA-states\", \"locations\": [\"AK\", \"FL\", \"IL\", \"NM\", \"TX\", \"AK\", \"AK\", \"FL\", \"AZ\", \"CO\", \"AZ\", \"FL\", \"TX\", \"NV\", \"GA\", \"CO\", \"AZ\", \"NV\", \"CA\", \"WA\", \"NM\", \"AZ\", \"AK\", \"CA\", \"TX\", \"CA\", \"AK\", \"CA\", \"GA\", \"AK\", \"CO\", \"IN\", \"AN\", \"AZ\", \"CA\", \"IL\", \"WI\", \"CA\", \"FL\", \"FL\", \"AK\", \"TX\", \"AK\", \"AZ\", \"OK\", \"UT\", \"FL\", \"OH\", \"AK\", \"FL\", \"NV\", \"AK\", \"AK\", \"CA\", \"TX\", \"AZ\", \"FL\", \"AZ\", \"TX\", \"MI\", \"NV\", \"FL\", \"CA\", \"CO\", \"CA\", \"MO\", \"AZ\", \"AK\", \"CO\", \"OK\", \"CA\", \"FL\", \"CA\", \"CA\", \"AN\", \"AK\", \"AK\", \"CA\", \"AZ\", \"TN\", \"CO\", \"TN\", \"AK\", \"AK\", \"HI\", \"TX\", \"AZ\", \"CA\", \"AZ\", \"UT\", \"AK\", \"CO\", \"CA\", \"AK\", \"MT\", \"WI\", \"AZ\", \"AK\", \"OR\", \"IL\"], \"name\": \"\", \"type\": \"choropleth\", \"z\": [1, 2, 3, 4, 5, 6, 7, 8, 9, 10, 11, 12, 13, 14, 15, 16, 17, 18, 19, 20, 21, 22, 23, 24, 25, 26, 27, 28, 29, 30, 31, 32, 33, 34, 35, 36, 37, 38, 39, 40, 41, 42, 43, 44, 45, 46, 47, 48, 49, 50, 51, 52, 53, 54, 55, 56, 57, 58, 59, 60, 61, 62, 63, 64, 65, 66, 67, 68, 69, 70, 71, 72, 73, 74, 75, 76, 77, 78, 79, 80, 81, 82, 83, 84, 85, 86, 87, 88, 89, 90, 91, 92, 93, 94, 95, 96, 97, 98, 99, 100]}],\n",
       "                        {\"coloraxis\": {\"colorbar\": {\"title\": {\"text\": \"color\"}}, \"colorscale\": [[0.0, \"#0d0887\"], [0.1111111111111111, \"#46039f\"], [0.2222222222222222, \"#7201a8\"], [0.3333333333333333, \"#9c179e\"], [0.4444444444444444, \"#bd3786\"], [0.5555555555555556, \"#d8576b\"], [0.6666666666666666, \"#ed7953\"], [0.7777777777777778, \"#fb9f3a\"], [0.8888888888888888, \"#fdca26\"], [1.0, \"#f0f921\"]]}, \"geo\": {\"center\": {}, \"domain\": {\"x\": [0.0, 1.0], \"y\": [0.0, 1.0]}, \"scope\": \"usa\"}, \"legend\": {\"tracegroupgap\": 0}, \"margin\": {\"t\": 60}, \"template\": {\"data\": {\"bar\": [{\"error_x\": {\"color\": \"#2a3f5f\"}, \"error_y\": {\"color\": \"#2a3f5f\"}, \"marker\": {\"line\": {\"color\": \"#E5ECF6\", \"width\": 0.5}}, \"type\": \"bar\"}], \"barpolar\": [{\"marker\": {\"line\": {\"color\": \"#E5ECF6\", \"width\": 0.5}}, \"type\": \"barpolar\"}], \"carpet\": [{\"aaxis\": {\"endlinecolor\": \"#2a3f5f\", \"gridcolor\": \"white\", \"linecolor\": \"white\", \"minorgridcolor\": \"white\", \"startlinecolor\": \"#2a3f5f\"}, \"baxis\": {\"endlinecolor\": \"#2a3f5f\", \"gridcolor\": \"white\", \"linecolor\": \"white\", \"minorgridcolor\": \"white\", \"startlinecolor\": \"#2a3f5f\"}, \"type\": \"carpet\"}], \"choropleth\": [{\"colorbar\": {\"outlinewidth\": 0, \"ticks\": \"\"}, \"type\": \"choropleth\"}], \"contour\": [{\"colorbar\": {\"outlinewidth\": 0, \"ticks\": \"\"}, \"colorscale\": [[0.0, \"#0d0887\"], [0.1111111111111111, \"#46039f\"], [0.2222222222222222, \"#7201a8\"], [0.3333333333333333, \"#9c179e\"], [0.4444444444444444, \"#bd3786\"], [0.5555555555555556, \"#d8576b\"], [0.6666666666666666, \"#ed7953\"], [0.7777777777777778, \"#fb9f3a\"], [0.8888888888888888, \"#fdca26\"], [1.0, \"#f0f921\"]], \"type\": \"contour\"}], \"contourcarpet\": [{\"colorbar\": {\"outlinewidth\": 0, \"ticks\": \"\"}, \"type\": \"contourcarpet\"}], \"heatmap\": [{\"colorbar\": {\"outlinewidth\": 0, \"ticks\": \"\"}, \"colorscale\": [[0.0, \"#0d0887\"], [0.1111111111111111, \"#46039f\"], [0.2222222222222222, \"#7201a8\"], [0.3333333333333333, \"#9c179e\"], [0.4444444444444444, \"#bd3786\"], [0.5555555555555556, \"#d8576b\"], [0.6666666666666666, \"#ed7953\"], [0.7777777777777778, \"#fb9f3a\"], [0.8888888888888888, \"#fdca26\"], [1.0, \"#f0f921\"]], \"type\": \"heatmap\"}], \"heatmapgl\": [{\"colorbar\": {\"outlinewidth\": 0, \"ticks\": \"\"}, \"colorscale\": [[0.0, \"#0d0887\"], [0.1111111111111111, \"#46039f\"], [0.2222222222222222, \"#7201a8\"], [0.3333333333333333, \"#9c179e\"], [0.4444444444444444, \"#bd3786\"], [0.5555555555555556, \"#d8576b\"], [0.6666666666666666, \"#ed7953\"], [0.7777777777777778, \"#fb9f3a\"], [0.8888888888888888, \"#fdca26\"], [1.0, \"#f0f921\"]], \"type\": \"heatmapgl\"}], \"histogram\": [{\"marker\": {\"colorbar\": {\"outlinewidth\": 0, \"ticks\": \"\"}}, \"type\": \"histogram\"}], \"histogram2d\": [{\"colorbar\": {\"outlinewidth\": 0, \"ticks\": \"\"}, \"colorscale\": [[0.0, \"#0d0887\"], [0.1111111111111111, \"#46039f\"], [0.2222222222222222, \"#7201a8\"], [0.3333333333333333, \"#9c179e\"], [0.4444444444444444, \"#bd3786\"], [0.5555555555555556, \"#d8576b\"], [0.6666666666666666, \"#ed7953\"], [0.7777777777777778, \"#fb9f3a\"], [0.8888888888888888, \"#fdca26\"], [1.0, \"#f0f921\"]], \"type\": \"histogram2d\"}], \"histogram2dcontour\": [{\"colorbar\": {\"outlinewidth\": 0, \"ticks\": \"\"}, \"colorscale\": [[0.0, \"#0d0887\"], [0.1111111111111111, \"#46039f\"], [0.2222222222222222, \"#7201a8\"], [0.3333333333333333, \"#9c179e\"], [0.4444444444444444, \"#bd3786\"], [0.5555555555555556, \"#d8576b\"], [0.6666666666666666, \"#ed7953\"], [0.7777777777777778, \"#fb9f3a\"], [0.8888888888888888, \"#fdca26\"], [1.0, \"#f0f921\"]], \"type\": \"histogram2dcontour\"}], \"mesh3d\": [{\"colorbar\": {\"outlinewidth\": 0, \"ticks\": \"\"}, \"type\": \"mesh3d\"}], \"parcoords\": [{\"line\": {\"colorbar\": {\"outlinewidth\": 0, \"ticks\": \"\"}}, \"type\": \"parcoords\"}], \"pie\": [{\"automargin\": true, \"type\": \"pie\"}], \"scatter\": [{\"marker\": {\"colorbar\": {\"outlinewidth\": 0, \"ticks\": \"\"}}, \"type\": \"scatter\"}], \"scatter3d\": [{\"line\": {\"colorbar\": {\"outlinewidth\": 0, \"ticks\": \"\"}}, \"marker\": {\"colorbar\": {\"outlinewidth\": 0, \"ticks\": \"\"}}, \"type\": \"scatter3d\"}], \"scattercarpet\": [{\"marker\": {\"colorbar\": {\"outlinewidth\": 0, \"ticks\": \"\"}}, \"type\": \"scattercarpet\"}], \"scattergeo\": [{\"marker\": {\"colorbar\": {\"outlinewidth\": 0, \"ticks\": \"\"}}, \"type\": \"scattergeo\"}], \"scattergl\": [{\"marker\": {\"colorbar\": {\"outlinewidth\": 0, \"ticks\": \"\"}}, \"type\": \"scattergl\"}], \"scattermapbox\": [{\"marker\": {\"colorbar\": {\"outlinewidth\": 0, \"ticks\": \"\"}}, \"type\": \"scattermapbox\"}], \"scatterpolar\": [{\"marker\": {\"colorbar\": {\"outlinewidth\": 0, \"ticks\": \"\"}}, \"type\": \"scatterpolar\"}], \"scatterpolargl\": [{\"marker\": {\"colorbar\": {\"outlinewidth\": 0, \"ticks\": \"\"}}, \"type\": \"scatterpolargl\"}], \"scatterternary\": [{\"marker\": {\"colorbar\": {\"outlinewidth\": 0, \"ticks\": \"\"}}, \"type\": \"scatterternary\"}], \"surface\": [{\"colorbar\": {\"outlinewidth\": 0, \"ticks\": \"\"}, \"colorscale\": [[0.0, \"#0d0887\"], [0.1111111111111111, \"#46039f\"], [0.2222222222222222, \"#7201a8\"], [0.3333333333333333, \"#9c179e\"], [0.4444444444444444, \"#bd3786\"], [0.5555555555555556, \"#d8576b\"], [0.6666666666666666, \"#ed7953\"], [0.7777777777777778, \"#fb9f3a\"], [0.8888888888888888, \"#fdca26\"], [1.0, \"#f0f921\"]], \"type\": \"surface\"}], \"table\": [{\"cells\": {\"fill\": {\"color\": \"#EBF0F8\"}, \"line\": {\"color\": \"white\"}}, \"header\": {\"fill\": {\"color\": \"#C8D4E3\"}, \"line\": {\"color\": \"white\"}}, \"type\": \"table\"}]}, \"layout\": {\"annotationdefaults\": {\"arrowcolor\": \"#2a3f5f\", \"arrowhead\": 0, \"arrowwidth\": 1}, \"coloraxis\": {\"colorbar\": {\"outlinewidth\": 0, \"ticks\": \"\"}}, \"colorscale\": {\"diverging\": [[0, \"#8e0152\"], [0.1, \"#c51b7d\"], [0.2, \"#de77ae\"], [0.3, \"#f1b6da\"], [0.4, \"#fde0ef\"], [0.5, \"#f7f7f7\"], [0.6, \"#e6f5d0\"], [0.7, \"#b8e186\"], [0.8, \"#7fbc41\"], [0.9, \"#4d9221\"], [1, \"#276419\"]], \"sequential\": [[0.0, \"#0d0887\"], [0.1111111111111111, \"#46039f\"], [0.2222222222222222, \"#7201a8\"], [0.3333333333333333, \"#9c179e\"], [0.4444444444444444, \"#bd3786\"], [0.5555555555555556, \"#d8576b\"], [0.6666666666666666, \"#ed7953\"], [0.7777777777777778, \"#fb9f3a\"], [0.8888888888888888, \"#fdca26\"], [1.0, \"#f0f921\"]], \"sequentialminus\": [[0.0, \"#0d0887\"], [0.1111111111111111, \"#46039f\"], [0.2222222222222222, \"#7201a8\"], [0.3333333333333333, \"#9c179e\"], [0.4444444444444444, \"#bd3786\"], [0.5555555555555556, \"#d8576b\"], [0.6666666666666666, \"#ed7953\"], [0.7777777777777778, \"#fb9f3a\"], [0.8888888888888888, \"#fdca26\"], [1.0, \"#f0f921\"]]}, \"colorway\": [\"#636efa\", \"#EF553B\", \"#00cc96\", \"#ab63fa\", \"#FFA15A\", \"#19d3f3\", \"#FF6692\", \"#B6E880\", \"#FF97FF\", \"#FECB52\"], \"font\": {\"color\": \"#2a3f5f\"}, \"geo\": {\"bgcolor\": \"white\", \"lakecolor\": \"white\", \"landcolor\": \"#E5ECF6\", \"showlakes\": true, \"showland\": true, \"subunitcolor\": \"white\"}, \"hoverlabel\": {\"align\": \"left\"}, \"hovermode\": \"closest\", \"mapbox\": {\"style\": \"light\"}, \"paper_bgcolor\": \"white\", \"plot_bgcolor\": \"#E5ECF6\", \"polar\": {\"angularaxis\": {\"gridcolor\": \"white\", \"linecolor\": \"white\", \"ticks\": \"\"}, \"bgcolor\": \"#E5ECF6\", \"radialaxis\": {\"gridcolor\": \"white\", \"linecolor\": \"white\", \"ticks\": \"\"}}, \"scene\": {\"xaxis\": {\"backgroundcolor\": \"#E5ECF6\", \"gridcolor\": \"white\", \"gridwidth\": 2, \"linecolor\": \"white\", \"showbackground\": true, \"ticks\": \"\", \"zerolinecolor\": \"white\"}, \"yaxis\": {\"backgroundcolor\": \"#E5ECF6\", \"gridcolor\": \"white\", \"gridwidth\": 2, \"linecolor\": \"white\", \"showbackground\": true, \"ticks\": \"\", \"zerolinecolor\": \"white\"}, \"zaxis\": {\"backgroundcolor\": \"#E5ECF6\", \"gridcolor\": \"white\", \"gridwidth\": 2, \"linecolor\": \"white\", \"showbackground\": true, \"ticks\": \"\", \"zerolinecolor\": \"white\"}}, \"shapedefaults\": {\"line\": {\"color\": \"#2a3f5f\"}}, \"ternary\": {\"aaxis\": {\"gridcolor\": \"white\", \"linecolor\": \"white\", \"ticks\": \"\"}, \"baxis\": {\"gridcolor\": \"white\", \"linecolor\": \"white\", \"ticks\": \"\"}, \"bgcolor\": \"#E5ECF6\", \"caxis\": {\"gridcolor\": \"white\", \"linecolor\": \"white\", \"ticks\": \"\"}}, \"title\": {\"x\": 0.05}, \"xaxis\": {\"automargin\": true, \"gridcolor\": \"white\", \"linecolor\": \"white\", \"ticks\": \"\", \"title\": {\"standoff\": 15}, \"zerolinecolor\": \"white\", \"zerolinewidth\": 2}, \"yaxis\": {\"automargin\": true, \"gridcolor\": \"white\", \"linecolor\": \"white\", \"ticks\": \"\", \"title\": {\"standoff\": 15}, \"zerolinecolor\": \"white\", \"zerolinewidth\": 2}}}},\n",
       "                        {\"responsive\": true}\n",
       "                    ).then(function(){\n",
       "                            \n",
       "var gd = document.getElementById('51b92eed-0230-47aa-aaa8-96fe211e1afb');\n",
       "var x = new MutationObserver(function (mutations, observer) {{\n",
       "        var display = window.getComputedStyle(gd).display;\n",
       "        if (!display || display === 'none') {{\n",
       "            console.log([gd, 'removed!']);\n",
       "            Plotly.purge(gd);\n",
       "            observer.disconnect();\n",
       "        }}\n",
       "}});\n",
       "\n",
       "// Listen for the removal of the full notebook cells\n",
       "var notebookContainer = gd.closest('#notebook-container');\n",
       "if (notebookContainer) {{\n",
       "    x.observe(notebookContainer, {childList: true});\n",
       "}}\n",
       "\n",
       "// Listen for the clearing of the current output cell\n",
       "var outputEl = gd.closest('.output');\n",
       "if (outputEl) {{\n",
       "    x.observe(outputEl, {childList: true});\n",
       "}}\n",
       "\n",
       "                        })\n",
       "                };\n",
       "                });\n",
       "            </script>\n",
       "        </div>"
      ]
     },
     "metadata": {},
     "output_type": "display_data"
    }
   ],
   "source": [
    "# top five event date with the accidents\n",
    "USA_loc = data[\"LOCATION\"].value_counts().to_frame().head(1000)\n",
    "USA_loc = USA_loc.reset_index()\n",
    "USA_loc.columns = [\"STATE\", \"COUNT\"]\n",
    "states = list(USA_loc[\"STATE\"])\n",
    "fig = px.choropleth(locations = [i[len(i) - 2:len(i):] for i in states], locationmode=\"USA-states\", color=[i for i in range(1, 101)], scope=\"usa\")\n",
    "fig.show()"
   ]
  },
  {
   "cell_type": "markdown",
   "metadata": {},
   "source": [
    "## Date visualization "
   ]
  },
  {
   "cell_type": "code",
   "execution_count": 100,
   "metadata": {},
   "outputs": [
    {
     "data": {
      "text/html": [
       "<div>\n",
       "<style scoped>\n",
       "    .dataframe tbody tr th:only-of-type {\n",
       "        vertical-align: middle;\n",
       "    }\n",
       "\n",
       "    .dataframe tbody tr th {\n",
       "        vertical-align: top;\n",
       "    }\n",
       "\n",
       "    .dataframe thead th {\n",
       "        text-align: right;\n",
       "    }\n",
       "</style>\n",
       "<table border=\"1\" class=\"dataframe\">\n",
       "  <thead>\n",
       "    <tr style=\"text-align: right;\">\n",
       "      <th></th>\n",
       "      <th>EVENT_DATE</th>\n",
       "    </tr>\n",
       "  </thead>\n",
       "  <tbody>\n",
       "    <tr>\n",
       "      <th>30/6/1984</th>\n",
       "      <td>25</td>\n",
       "    </tr>\n",
       "    <tr>\n",
       "      <th>8/7/2000</th>\n",
       "      <td>25</td>\n",
       "    </tr>\n",
       "    <tr>\n",
       "      <th>16/5/1982</th>\n",
       "      <td>25</td>\n",
       "    </tr>\n",
       "    <tr>\n",
       "      <th>25/8/1984</th>\n",
       "      <td>24</td>\n",
       "    </tr>\n",
       "    <tr>\n",
       "      <th>5/6/1983</th>\n",
       "      <td>24</td>\n",
       "    </tr>\n",
       "  </tbody>\n",
       "</table>\n",
       "</div>"
      ],
      "text/plain": [
       "           EVENT_DATE\n",
       "30/6/1984          25\n",
       "8/7/2000           25\n",
       "16/5/1982          25\n",
       "25/8/1984          24\n",
       "5/6/1983           24"
      ]
     },
     "execution_count": 100,
     "metadata": {},
     "output_type": "execute_result"
    }
   ],
   "source": [
    "# top five event date with the accidents\n",
    "data[\"EVENT_DATE\"].value_counts().to_frame().head(5)"
   ]
  },
  {
   "cell_type": "markdown",
   "metadata": {},
   "source": [
    "## Phase of flight and weather condition visualization "
   ]
  },
  {
   "cell_type": "code",
   "execution_count": 89,
   "metadata": {},
   "outputs": [
    {
     "data": {
      "text/plain": [
       "<matplotlib.axes._subplots.AxesSubplot at 0x25edf68cb38>"
      ]
     },
     "execution_count": 89,
     "metadata": {},
     "output_type": "execute_result"
    },
    {
     "data": {
      "image/png": "[encoded data removed]",
      "text/plain": [
       "<Figure size 1728x864 with 2 Axes>"
      ]
     },
     "metadata": {},
     "output_type": "display_data"
    }
   ],
   "source": [
    "fig, axes = plt.subplots(1, 2, figsize = (24, 12))\n",
    "data[\"BROAD_PHASE_OF_FLIGHT\"].value_counts().plot(ax = axes[0], kind = 'bar', title = 'Phase of Flight',color = 'r')\n",
    "data[\"WEATHER_CONDITION\"].value_counts().plot(ax = axes[1], kind = 'pie', title = 'Weather Condition', fontsize = 20)"
   ]
  },
  {
   "cell_type": "markdown",
   "metadata": {},
   "source": [
    "## Correlation matrix between each numerical variables in the dataset."
   ]
  },
  {
   "cell_type": "code",
   "execution_count": 90,
   "metadata": {},
   "outputs": [
    {
     "data": {
      "text/plain": [
       "<matplotlib.axes._subplots.AxesSubplot at 0x25ee4027198>"
      ]
     },
     "execution_count": 90,
     "metadata": {},
     "output_type": "execute_result"
    },
    {
     "data": {
      "image/png": "[encoded data removed]",
      "text/plain": [
       "<Figure size 720x720 with 2 Axes>"
      ]
     },
     "metadata": {},
     "output_type": "display_data"
    }
   ],
   "source": [
    "f, axes = plt.subplots(1, 1, figsize = (10, 10))\n",
    "plt.title(\"Columns Correlation\", fontsize = 30)\n",
    "sb.heatmap(data.corr(), vmin = -1, vmax = 1, annot = True, fmt = '.2f')"
   ]
  },
  {
   "cell_type": "markdown",
   "metadata": {},
   "source": [
    "As observed from the above figure, \n",
    "\n",
    "- The **NUMBER_OF_ENGINE** has quite relative condition with the **TOTAL_OF_UNINJURED** (~0.43). Hence, the **NUMBER_OF_ENGINE** could be a factor use to somehow predict the number of **TOTAL_OF_UNINJURED**. "
   ]
  },
  {
   "cell_type": "code",
   "execution_count": 91,
   "metadata": {},
   "outputs": [
    {
     "name": "stdout",
     "output_type": "stream",
     "text": [
      "<class 'pandas.core.frame.DataFrame'>\n",
      "RangeIndex: 79141 entries, 0 to 79140\n",
      "Data columns (total 7 columns):\n",
      "LATITUDE                  25614 non-null float64\n",
      "LONGITUDE                 25605 non-null float64\n",
      "NUMBER_OF_ENGINES         75056 non-null float64\n",
      "TOTAL_FATAL_INJURIES      55944 non-null float64\n",
      "TOTAL_SERIOUS_INJURIES    53724 non-null float64\n",
      "TOTAL_MINOR_INJURIES      54812 non-null float64\n",
      "TOTAL_UNINJURED           66860 non-null float64\n",
      "dtypes: float64(7)\n",
      "memory usage: 4.2 MB\n"
     ]
    },
    {
     "data": {
      "text/html": [
       "<div>\n",
       "<style scoped>\n",
       "    .dataframe tbody tr th:only-of-type {\n",
       "        vertical-align: middle;\n",
       "    }\n",
       "\n",
       "    .dataframe tbody tr th {\n",
       "        vertical-align: top;\n",
       "    }\n",
       "\n",
       "    .dataframe thead th {\n",
       "        text-align: right;\n",
       "    }\n",
       "</style>\n",
       "<table border=\"1\" class=\"dataframe\">\n",
       "  <thead>\n",
       "    <tr style=\"text-align: right;\">\n",
       "      <th></th>\n",
       "      <th>LATITUDE</th>\n",
       "      <th>LONGITUDE</th>\n",
       "      <th>NUMBER_OF_ENGINES</th>\n",
       "      <th>TOTAL_FATAL_INJURIES</th>\n",
       "      <th>TOTAL_SERIOUS_INJURIES</th>\n",
       "      <th>TOTAL_MINOR_INJURIES</th>\n",
       "      <th>TOTAL_UNINJURED</th>\n",
       "    </tr>\n",
       "  </thead>\n",
       "  <tbody>\n",
       "    <tr>\n",
       "      <th>0</th>\n",
       "      <td>0</td>\n",
       "      <td>0</td>\n",
       "      <td>1</td>\n",
       "      <td>0</td>\n",
       "      <td>0</td>\n",
       "      <td>0</td>\n",
       "      <td>1</td>\n",
       "    </tr>\n",
       "    <tr>\n",
       "      <th>1</th>\n",
       "      <td>0</td>\n",
       "      <td>0</td>\n",
       "      <td>0</td>\n",
       "      <td>0</td>\n",
       "      <td>0</td>\n",
       "      <td>0</td>\n",
       "      <td>2</td>\n",
       "    </tr>\n",
       "    <tr>\n",
       "      <th>2</th>\n",
       "      <td>30.5325</td>\n",
       "      <td>-91.315</td>\n",
       "      <td>1</td>\n",
       "      <td>0</td>\n",
       "      <td>0</td>\n",
       "      <td>0</td>\n",
       "      <td>1</td>\n",
       "    </tr>\n",
       "    <tr>\n",
       "      <th>3</th>\n",
       "      <td>34.4547</td>\n",
       "      <td>-110.058</td>\n",
       "      <td>1</td>\n",
       "      <td>0</td>\n",
       "      <td>0</td>\n",
       "      <td>0</td>\n",
       "      <td>2</td>\n",
       "    </tr>\n",
       "    <tr>\n",
       "      <th>4</th>\n",
       "      <td>0</td>\n",
       "      <td>0</td>\n",
       "      <td>1</td>\n",
       "      <td>0</td>\n",
       "      <td>1</td>\n",
       "      <td>0</td>\n",
       "      <td>1</td>\n",
       "    </tr>\n",
       "    <tr>\n",
       "      <th>5</th>\n",
       "      <td>40.9711</td>\n",
       "      <td>-74.9975</td>\n",
       "      <td>1</td>\n",
       "      <td>1</td>\n",
       "      <td>0</td>\n",
       "      <td>0</td>\n",
       "      <td>0</td>\n",
       "    </tr>\n",
       "    <tr>\n",
       "      <th>6</th>\n",
       "      <td>29.4081</td>\n",
       "      <td>-81.5144</td>\n",
       "      <td>1</td>\n",
       "      <td>2</td>\n",
       "      <td>0</td>\n",
       "      <td>0</td>\n",
       "      <td>0</td>\n",
       "    </tr>\n",
       "    <tr>\n",
       "      <th>7</th>\n",
       "      <td>34.16</td>\n",
       "      <td>-115.998</td>\n",
       "      <td>0</td>\n",
       "      <td>0</td>\n",
       "      <td>0</td>\n",
       "      <td>0</td>\n",
       "      <td>1</td>\n",
       "    </tr>\n",
       "    <tr>\n",
       "      <th>8</th>\n",
       "      <td>44.3833</td>\n",
       "      <td>88.8525</td>\n",
       "      <td>1</td>\n",
       "      <td>0</td>\n",
       "      <td>0</td>\n",
       "      <td>1</td>\n",
       "      <td>0</td>\n",
       "    </tr>\n",
       "    <tr>\n",
       "      <th>9</th>\n",
       "      <td>29.89</td>\n",
       "      <td>-97.8586</td>\n",
       "      <td>1</td>\n",
       "      <td>0</td>\n",
       "      <td>0</td>\n",
       "      <td>2</td>\n",
       "      <td>0</td>\n",
       "    </tr>\n",
       "    <tr>\n",
       "      <th>10</th>\n",
       "      <td>43.5536</td>\n",
       "      <td>-109.709</td>\n",
       "      <td>1</td>\n",
       "      <td>1</td>\n",
       "      <td>0</td>\n",
       "      <td>0</td>\n",
       "      <td>0</td>\n",
       "    </tr>\n",
       "    <tr>\n",
       "      <th>11</th>\n",
       "      <td>35.3508</td>\n",
       "      <td>-79.2958</td>\n",
       "      <td>1</td>\n",
       "      <td>0</td>\n",
       "      <td>0</td>\n",
       "      <td>1</td>\n",
       "      <td>0</td>\n",
       "    </tr>\n",
       "    <tr>\n",
       "      <th>12</th>\n",
       "      <td>27.9433</td>\n",
       "      <td>-81.7833</td>\n",
       "      <td>1</td>\n",
       "      <td>0</td>\n",
       "      <td>0</td>\n",
       "      <td>0</td>\n",
       "      <td>1</td>\n",
       "    </tr>\n",
       "    <tr>\n",
       "      <th>13</th>\n",
       "      <td>43.9919</td>\n",
       "      <td>-76.0206</td>\n",
       "      <td>1</td>\n",
       "      <td>0</td>\n",
       "      <td>0</td>\n",
       "      <td>0</td>\n",
       "      <td>1</td>\n",
       "    </tr>\n",
       "    <tr>\n",
       "      <th>14</th>\n",
       "      <td>0</td>\n",
       "      <td>0</td>\n",
       "      <td>0</td>\n",
       "      <td>2</td>\n",
       "      <td>0</td>\n",
       "      <td>0</td>\n",
       "      <td>0</td>\n",
       "    </tr>\n",
       "    <tr>\n",
       "      <th>15</th>\n",
       "      <td>38.3656</td>\n",
       "      <td>-85.7381</td>\n",
       "      <td>2</td>\n",
       "      <td>0</td>\n",
       "      <td>0</td>\n",
       "      <td>0</td>\n",
       "      <td>10</td>\n",
       "    </tr>\n",
       "    <tr>\n",
       "      <th>16</th>\n",
       "      <td>35.0728</td>\n",
       "      <td>-77.0431</td>\n",
       "      <td>1</td>\n",
       "      <td>0</td>\n",
       "      <td>0</td>\n",
       "      <td>1</td>\n",
       "      <td>0</td>\n",
       "    </tr>\n",
       "    <tr>\n",
       "      <th>17</th>\n",
       "      <td>32.6789</td>\n",
       "      <td>-96.8717</td>\n",
       "      <td>0</td>\n",
       "      <td>0</td>\n",
       "      <td>0</td>\n",
       "      <td>0</td>\n",
       "      <td>9</td>\n",
       "    </tr>\n",
       "    <tr>\n",
       "      <th>18</th>\n",
       "      <td>61.4822</td>\n",
       "      <td>-148.772</td>\n",
       "      <td>1</td>\n",
       "      <td>1</td>\n",
       "      <td>0</td>\n",
       "      <td>0</td>\n",
       "      <td>0</td>\n",
       "    </tr>\n",
       "    <tr>\n",
       "      <th>19</th>\n",
       "      <td>46.5883</td>\n",
       "      <td>-118.123</td>\n",
       "      <td>0</td>\n",
       "      <td>0</td>\n",
       "      <td>0</td>\n",
       "      <td>0</td>\n",
       "      <td>1</td>\n",
       "    </tr>\n",
       "    <tr>\n",
       "      <th>20</th>\n",
       "      <td>36.6981</td>\n",
       "      <td>-107.992</td>\n",
       "      <td>1</td>\n",
       "      <td>0</td>\n",
       "      <td>0</td>\n",
       "      <td>0</td>\n",
       "      <td>1</td>\n",
       "    </tr>\n",
       "    <tr>\n",
       "      <th>21</th>\n",
       "      <td>33.7194</td>\n",
       "      <td>-94.875</td>\n",
       "      <td>1</td>\n",
       "      <td>1</td>\n",
       "      <td>0</td>\n",
       "      <td>0</td>\n",
       "      <td>0</td>\n",
       "    </tr>\n",
       "    <tr>\n",
       "      <th>22</th>\n",
       "      <td>61.0817</td>\n",
       "      <td>-153.518</td>\n",
       "      <td>1</td>\n",
       "      <td>1</td>\n",
       "      <td>0</td>\n",
       "      <td>0</td>\n",
       "      <td>0</td>\n",
       "    </tr>\n",
       "    <tr>\n",
       "      <th>23</th>\n",
       "      <td>39.21</td>\n",
       "      <td>-93.9278</td>\n",
       "      <td>1</td>\n",
       "      <td>0</td>\n",
       "      <td>0</td>\n",
       "      <td>0</td>\n",
       "      <td>4</td>\n",
       "    </tr>\n",
       "    <tr>\n",
       "      <th>24</th>\n",
       "      <td>34.7875</td>\n",
       "      <td>-102.388</td>\n",
       "      <td>1</td>\n",
       "      <td>0</td>\n",
       "      <td>1</td>\n",
       "      <td>0</td>\n",
       "      <td>0</td>\n",
       "    </tr>\n",
       "    <tr>\n",
       "      <th>25</th>\n",
       "      <td>0</td>\n",
       "      <td>0</td>\n",
       "      <td>2</td>\n",
       "      <td>0</td>\n",
       "      <td>0</td>\n",
       "      <td>0</td>\n",
       "      <td>0</td>\n",
       "    </tr>\n",
       "    <tr>\n",
       "      <th>26</th>\n",
       "      <td>29.5253</td>\n",
       "      <td>-95.2389</td>\n",
       "      <td>0</td>\n",
       "      <td>1</td>\n",
       "      <td>0</td>\n",
       "      <td>0</td>\n",
       "      <td>0</td>\n",
       "    </tr>\n",
       "    <tr>\n",
       "      <th>27</th>\n",
       "      <td>37.9689</td>\n",
       "      <td>-121.889</td>\n",
       "      <td>1</td>\n",
       "      <td>2</td>\n",
       "      <td>0</td>\n",
       "      <td>0</td>\n",
       "      <td>0</td>\n",
       "    </tr>\n",
       "    <tr>\n",
       "      <th>28</th>\n",
       "      <td>27.9131</td>\n",
       "      <td>-97.2114</td>\n",
       "      <td>1</td>\n",
       "      <td>0</td>\n",
       "      <td>0</td>\n",
       "      <td>0</td>\n",
       "      <td>1</td>\n",
       "    </tr>\n",
       "    <tr>\n",
       "      <th>29</th>\n",
       "      <td>27.1956</td>\n",
       "      <td>-81.8403</td>\n",
       "      <td>1</td>\n",
       "      <td>0</td>\n",
       "      <td>0</td>\n",
       "      <td>0</td>\n",
       "      <td>1</td>\n",
       "    </tr>\n",
       "    <tr>\n",
       "      <th>...</th>\n",
       "      <td>...</td>\n",
       "      <td>...</td>\n",
       "      <td>...</td>\n",
       "      <td>...</td>\n",
       "      <td>...</td>\n",
       "      <td>...</td>\n",
       "      <td>...</td>\n",
       "    </tr>\n",
       "    <tr>\n",
       "      <th>79111</th>\n",
       "      <td>0</td>\n",
       "      <td>0</td>\n",
       "      <td>1</td>\n",
       "      <td>0</td>\n",
       "      <td>0</td>\n",
       "      <td>1</td>\n",
       "      <td>1</td>\n",
       "    </tr>\n",
       "    <tr>\n",
       "      <th>79112</th>\n",
       "      <td>0</td>\n",
       "      <td>0</td>\n",
       "      <td>1</td>\n",
       "      <td>0</td>\n",
       "      <td>0</td>\n",
       "      <td>0</td>\n",
       "      <td>1</td>\n",
       "    </tr>\n",
       "    <tr>\n",
       "      <th>79113</th>\n",
       "      <td>0</td>\n",
       "      <td>0</td>\n",
       "      <td>1</td>\n",
       "      <td>2</td>\n",
       "      <td>1</td>\n",
       "      <td>0</td>\n",
       "      <td>0</td>\n",
       "    </tr>\n",
       "    <tr>\n",
       "      <th>79114</th>\n",
       "      <td>0</td>\n",
       "      <td>0</td>\n",
       "      <td>1</td>\n",
       "      <td>0</td>\n",
       "      <td>0</td>\n",
       "      <td>2</td>\n",
       "      <td>0</td>\n",
       "    </tr>\n",
       "    <tr>\n",
       "      <th>79115</th>\n",
       "      <td>0</td>\n",
       "      <td>0</td>\n",
       "      <td>1</td>\n",
       "      <td>0</td>\n",
       "      <td>0</td>\n",
       "      <td>2</td>\n",
       "      <td>0</td>\n",
       "    </tr>\n",
       "    <tr>\n",
       "      <th>79116</th>\n",
       "      <td>0</td>\n",
       "      <td>0</td>\n",
       "      <td>1</td>\n",
       "      <td>0</td>\n",
       "      <td>0</td>\n",
       "      <td>0</td>\n",
       "      <td>1</td>\n",
       "    </tr>\n",
       "    <tr>\n",
       "      <th>79117</th>\n",
       "      <td>0</td>\n",
       "      <td>0</td>\n",
       "      <td>2</td>\n",
       "      <td>8</td>\n",
       "      <td>0</td>\n",
       "      <td>0</td>\n",
       "      <td>0</td>\n",
       "    </tr>\n",
       "    <tr>\n",
       "      <th>79118</th>\n",
       "      <td>0</td>\n",
       "      <td>0</td>\n",
       "      <td>2</td>\n",
       "      <td>1</td>\n",
       "      <td>0</td>\n",
       "      <td>0</td>\n",
       "      <td>0</td>\n",
       "    </tr>\n",
       "    <tr>\n",
       "      <th>79119</th>\n",
       "      <td>0</td>\n",
       "      <td>0</td>\n",
       "      <td>1</td>\n",
       "      <td>0</td>\n",
       "      <td>0</td>\n",
       "      <td>0</td>\n",
       "      <td>1</td>\n",
       "    </tr>\n",
       "    <tr>\n",
       "      <th>79120</th>\n",
       "      <td>0</td>\n",
       "      <td>0</td>\n",
       "      <td>1</td>\n",
       "      <td>0</td>\n",
       "      <td>0</td>\n",
       "      <td>0</td>\n",
       "      <td>2</td>\n",
       "    </tr>\n",
       "    <tr>\n",
       "      <th>79121</th>\n",
       "      <td>0</td>\n",
       "      <td>0</td>\n",
       "      <td>1</td>\n",
       "      <td>0</td>\n",
       "      <td>0</td>\n",
       "      <td>1</td>\n",
       "      <td>0</td>\n",
       "    </tr>\n",
       "    <tr>\n",
       "      <th>79122</th>\n",
       "      <td>0</td>\n",
       "      <td>0</td>\n",
       "      <td>1</td>\n",
       "      <td>1</td>\n",
       "      <td>0</td>\n",
       "      <td>0</td>\n",
       "      <td>0</td>\n",
       "    </tr>\n",
       "    <tr>\n",
       "      <th>79123</th>\n",
       "      <td>0</td>\n",
       "      <td>0</td>\n",
       "      <td>1</td>\n",
       "      <td>1</td>\n",
       "      <td>0</td>\n",
       "      <td>0</td>\n",
       "      <td>0</td>\n",
       "    </tr>\n",
       "    <tr>\n",
       "      <th>79124</th>\n",
       "      <td>0</td>\n",
       "      <td>0</td>\n",
       "      <td>1</td>\n",
       "      <td>2</td>\n",
       "      <td>0</td>\n",
       "      <td>0</td>\n",
       "      <td>0</td>\n",
       "    </tr>\n",
       "    <tr>\n",
       "      <th>79125</th>\n",
       "      <td>0</td>\n",
       "      <td>0</td>\n",
       "      <td>1</td>\n",
       "      <td>0</td>\n",
       "      <td>0</td>\n",
       "      <td>0</td>\n",
       "      <td>1</td>\n",
       "    </tr>\n",
       "    <tr>\n",
       "      <th>79126</th>\n",
       "      <td>0</td>\n",
       "      <td>0</td>\n",
       "      <td>1</td>\n",
       "      <td>0</td>\n",
       "      <td>0</td>\n",
       "      <td>0</td>\n",
       "      <td>1</td>\n",
       "    </tr>\n",
       "    <tr>\n",
       "      <th>79127</th>\n",
       "      <td>0</td>\n",
       "      <td>0</td>\n",
       "      <td>1</td>\n",
       "      <td>0</td>\n",
       "      <td>0</td>\n",
       "      <td>0</td>\n",
       "      <td>2</td>\n",
       "    </tr>\n",
       "    <tr>\n",
       "      <th>79128</th>\n",
       "      <td>0</td>\n",
       "      <td>0</td>\n",
       "      <td>1</td>\n",
       "      <td>0</td>\n",
       "      <td>0</td>\n",
       "      <td>0</td>\n",
       "      <td>1</td>\n",
       "    </tr>\n",
       "    <tr>\n",
       "      <th>79129</th>\n",
       "      <td>0</td>\n",
       "      <td>0</td>\n",
       "      <td>1</td>\n",
       "      <td>3</td>\n",
       "      <td>0</td>\n",
       "      <td>0</td>\n",
       "      <td>0</td>\n",
       "    </tr>\n",
       "    <tr>\n",
       "      <th>79130</th>\n",
       "      <td>0</td>\n",
       "      <td>0</td>\n",
       "      <td>1</td>\n",
       "      <td>0</td>\n",
       "      <td>0</td>\n",
       "      <td>0</td>\n",
       "      <td>2</td>\n",
       "    </tr>\n",
       "    <tr>\n",
       "      <th>79131</th>\n",
       "      <td>0</td>\n",
       "      <td>0</td>\n",
       "      <td>2</td>\n",
       "      <td>0</td>\n",
       "      <td>0</td>\n",
       "      <td>0</td>\n",
       "      <td>2</td>\n",
       "    </tr>\n",
       "    <tr>\n",
       "      <th>79132</th>\n",
       "      <td>0</td>\n",
       "      <td>0</td>\n",
       "      <td>1</td>\n",
       "      <td>0</td>\n",
       "      <td>0</td>\n",
       "      <td>3</td>\n",
       "      <td>0</td>\n",
       "    </tr>\n",
       "    <tr>\n",
       "      <th>79133</th>\n",
       "      <td>0</td>\n",
       "      <td>0</td>\n",
       "      <td>1</td>\n",
       "      <td>0</td>\n",
       "      <td>0</td>\n",
       "      <td>0</td>\n",
       "      <td>1</td>\n",
       "    </tr>\n",
       "    <tr>\n",
       "      <th>79134</th>\n",
       "      <td>0</td>\n",
       "      <td>0</td>\n",
       "      <td>1</td>\n",
       "      <td>0</td>\n",
       "      <td>0</td>\n",
       "      <td>0</td>\n",
       "      <td>1</td>\n",
       "    </tr>\n",
       "    <tr>\n",
       "      <th>79135</th>\n",
       "      <td>0</td>\n",
       "      <td>0</td>\n",
       "      <td>1</td>\n",
       "      <td>4</td>\n",
       "      <td>0</td>\n",
       "      <td>0</td>\n",
       "      <td>0</td>\n",
       "    </tr>\n",
       "    <tr>\n",
       "      <th>79136</th>\n",
       "      <td>0</td>\n",
       "      <td>0</td>\n",
       "      <td>0</td>\n",
       "      <td>1</td>\n",
       "      <td>2</td>\n",
       "      <td>0</td>\n",
       "      <td>0</td>\n",
       "    </tr>\n",
       "    <tr>\n",
       "      <th>79137</th>\n",
       "      <td>0</td>\n",
       "      <td>0</td>\n",
       "      <td>1</td>\n",
       "      <td>2</td>\n",
       "      <td>0</td>\n",
       "      <td>0</td>\n",
       "      <td>0</td>\n",
       "    </tr>\n",
       "    <tr>\n",
       "      <th>79138</th>\n",
       "      <td>36.9222</td>\n",
       "      <td>-81.8781</td>\n",
       "      <td>1</td>\n",
       "      <td>3</td>\n",
       "      <td>0</td>\n",
       "      <td>0</td>\n",
       "      <td>0</td>\n",
       "    </tr>\n",
       "    <tr>\n",
       "      <th>79139</th>\n",
       "      <td>0</td>\n",
       "      <td>0</td>\n",
       "      <td>1</td>\n",
       "      <td>4</td>\n",
       "      <td>0</td>\n",
       "      <td>0</td>\n",
       "      <td>0</td>\n",
       "    </tr>\n",
       "    <tr>\n",
       "      <th>79140</th>\n",
       "      <td>0</td>\n",
       "      <td>0</td>\n",
       "      <td>1</td>\n",
       "      <td>2</td>\n",
       "      <td>0</td>\n",
       "      <td>0</td>\n",
       "      <td>0</td>\n",
       "    </tr>\n",
       "  </tbody>\n",
       "</table>\n",
       "<p>79141 rows × 7 columns</p>\n",
       "</div>"
      ],
      "text/plain": [
       "      LATITUDE LONGITUDE NUMBER_OF_ENGINES TOTAL_FATAL_INJURIES  \\\n",
       "0            0         0                 1                    0   \n",
       "1            0         0                 0                    0   \n",
       "2      30.5325   -91.315                 1                    0   \n",
       "3      34.4547  -110.058                 1                    0   \n",
       "4            0         0                 1                    0   \n",
       "5      40.9711  -74.9975                 1                    1   \n",
       "6      29.4081  -81.5144                 1                    2   \n",
       "7        34.16  -115.998                 0                    0   \n",
       "8      44.3833   88.8525                 1                    0   \n",
       "9        29.89  -97.8586                 1                    0   \n",
       "10     43.5536  -109.709                 1                    1   \n",
       "11     35.3508  -79.2958                 1                    0   \n",
       "12     27.9433  -81.7833                 1                    0   \n",
       "13     43.9919  -76.0206                 1                    0   \n",
       "14           0         0                 0                    2   \n",
       "15     38.3656  -85.7381                 2                    0   \n",
       "16     35.0728  -77.0431                 1                    0   \n",
       "17     32.6789  -96.8717                 0                    0   \n",
       "18     61.4822  -148.772                 1                    1   \n",
       "19     46.5883  -118.123                 0                    0   \n",
       "20     36.6981  -107.992                 1                    0   \n",
       "21     33.7194   -94.875                 1                    1   \n",
       "22     61.0817  -153.518                 1                    1   \n",
       "23       39.21  -93.9278                 1                    0   \n",
       "24     34.7875  -102.388                 1                    0   \n",
       "25           0         0                 2                    0   \n",
       "26     29.5253  -95.2389                 0                    1   \n",
       "27     37.9689  -121.889                 1                    2   \n",
       "28     27.9131  -97.2114                 1                    0   \n",
       "29     27.1956  -81.8403                 1                    0   \n",
       "...        ...       ...               ...                  ...   \n",
       "79111        0         0                 1                    0   \n",
       "79112        0         0                 1                    0   \n",
       "79113        0         0                 1                    2   \n",
       "79114        0         0                 1                    0   \n",
       "79115        0         0                 1                    0   \n",
       "79116        0         0                 1                    0   \n",
       "79117        0         0                 2                    8   \n",
       "79118        0         0                 2                    1   \n",
       "79119        0         0                 1                    0   \n",
       "79120        0         0                 1                    0   \n",
       "79121        0         0                 1                    0   \n",
       "79122        0         0                 1                    1   \n",
       "79123        0         0                 1                    1   \n",
       "79124        0         0                 1                    2   \n",
       "79125        0         0                 1                    0   \n",
       "79126        0         0                 1                    0   \n",
       "79127        0         0                 1                    0   \n",
       "79128        0         0                 1                    0   \n",
       "79129        0         0                 1                    3   \n",
       "79130        0         0                 1                    0   \n",
       "79131        0         0                 2                    0   \n",
       "79132        0         0                 1                    0   \n",
       "79133        0         0                 1                    0   \n",
       "79134        0         0                 1                    0   \n",
       "79135        0         0                 1                    4   \n",
       "79136        0         0                 0                    1   \n",
       "79137        0         0                 1                    2   \n",
       "79138  36.9222  -81.8781                 1                    3   \n",
       "79139        0         0                 1                    4   \n",
       "79140        0         0                 1                    2   \n",
       "\n",
       "      TOTAL_SERIOUS_INJURIES TOTAL_MINOR_INJURIES TOTAL_UNINJURED  \n",
       "0                          0                    0               1  \n",
       "1                          0                    0               2  \n",
       "2                          0                    0               1  \n",
       "3                          0                    0               2  \n",
       "4                          1                    0               1  \n",
       "5                          0                    0               0  \n",
       "6                          0                    0               0  \n",
       "7                          0                    0               1  \n",
       "8                          0                    1               0  \n",
       "9                          0                    2               0  \n",
       "10                         0                    0               0  \n",
       "11                         0                    1               0  \n",
       "12                         0                    0               1  \n",
       "13                         0                    0               1  \n",
       "14                         0                    0               0  \n",
       "15                         0                    0              10  \n",
       "16                         0                    1               0  \n",
       "17                         0                    0               9  \n",
       "18                         0                    0               0  \n",
       "19                         0                    0               1  \n",
       "20                         0                    0               1  \n",
       "21                         0                    0               0  \n",
       "22                         0                    0               0  \n",
       "23                         0                    0               4  \n",
       "24                         1                    0               0  \n",
       "25                         0                    0               0  \n",
       "26                         0                    0               0  \n",
       "27                         0                    0               0  \n",
       "28                         0                    0               1  \n",
       "29                         0                    0               1  \n",
       "...                      ...                  ...             ...  \n",
       "79111                      0                    1               1  \n",
       "79112                      0                    0               1  \n",
       "79113                      1                    0               0  \n",
       "79114                      0                    2               0  \n",
       "79115                      0                    2               0  \n",
       "79116                      0                    0               1  \n",
       "79117                      0                    0               0  \n",
       "79118                      0                    0               0  \n",
       "79119                      0                    0               1  \n",
       "79120                      0                    0               2  \n",
       "79121                      0                    1               0  \n",
       "79122                      0                    0               0  \n",
       "79123                      0                    0               0  \n",
       "79124                      0                    0               0  \n",
       "79125                      0                    0               1  \n",
       "79126                      0                    0               1  \n",
       "79127                      0                    0               2  \n",
       "79128                      0                    0               1  \n",
       "79129                      0                    0               0  \n",
       "79130                      0                    0               2  \n",
       "79131                      0                    0               2  \n",
       "79132                      0                    3               0  \n",
       "79133                      0                    0               1  \n",
       "79134                      0                    0               1  \n",
       "79135                      0                    0               0  \n",
       "79136                      2                    0               0  \n",
       "79137                      0                    0               0  \n",
       "79138                      0                    0               0  \n",
       "79139                      0                    0               0  \n",
       "79140                      0                    0               0  \n",
       "\n",
       "[79141 rows x 7 columns]"
      ]
     },
     "execution_count": 91,
     "metadata": {},
     "output_type": "execute_result"
    }
   ],
   "source": [
    "# Extract the Features from the Data\n",
    "X = pd.DataFrame(data).select_dtypes([np.number])\n",
    "# Check the Dataset\n",
    "X.info()\n",
    "# clean features X\n",
    "X.fillna(value = \"0\", inplace = True) # Fill missing values in data\n",
    "# Replacing values that contain 'N/A' to a numeruc value of 0 to indicate as null instead.\n",
    "X.replace('N/A', 0)"
   ]
  },
  {
   "cell_type": "markdown",
   "metadata": {},
   "source": [
    "## KMean training model to fit those data into 3 clusters"
   ]
  },
  {
   "cell_type": "code",
   "execution_count": 92,
   "metadata": {},
   "outputs": [
    {
     "data": {
      "text/plain": [
       "KMeans(algorithm='auto', copy_x=True, init='k-means++', max_iter=300,\n",
       "       n_clusters=3, n_init=10, n_jobs=None, precompute_distances='auto',\n",
       "       random_state=None, tol=0.0001, verbose=0)"
      ]
     },
     "execution_count": 92,
     "metadata": {},
     "output_type": "execute_result"
    }
   ],
   "source": [
    "# Import KMeans from sklearn.cluster\n",
    "from sklearn.cluster import KMeans\n",
    "\n",
    "# Guess the Number of Clusters\n",
    "num_clust = 3\n",
    "\n",
    "# Create Clustering Model using KMeans\n",
    "kmeans = KMeans(n_clusters = num_clust)\n",
    "\n",
    "# Fit the Clustering Model on the Data\n",
    "kmeans.fit(X)"
   ]
  },
  {
   "cell_type": "code",
   "execution_count": 93,
   "metadata": {},
   "outputs": [
    {
     "name": "stdout",
     "output_type": "stream",
     "text": [
      "Features \tLATITUDE \tLONGITUDE \tNUMBER_OF_ENGINES \tTOTAL_FATAL_INJURIES \tTOTAL_SERIOUS_INJURIES \tTOTAL_MINOR_INJURIES TOTAL_UNINJURED\n",
      "\n",
      "Cluster 0:\t38.51\t-100.36\t1.07\t0.37\t0.19\t0.29\t1.78\t\n",
      "Cluster 1:\t0.46\t0.93\t1.08\t0.68\t0.22\t0.33\t1.92\t\n",
      "Cluster 2:\t8.01\t-19.69\t2.02\t0.13\t0.52\t2.41\t189.05\t\n",
      "\n",
      "Within Cluster Sum of Squares : 41057830.85237415\n",
      "\n"
     ]
    },
    {
     "data": {
      "text/plain": [
       "<matplotlib.axes._subplots.AxesSubplot at 0x25edf2e3358>"
      ]
     },
     "execution_count": 93,
     "metadata": {},
     "output_type": "execute_result"
    },
    {
     "data": {
      "image/png": "[encoded data removed]",
      "text/plain": [
       "<Figure size 432x288 with 1 Axes>"
      ]
     },
     "metadata": {},
     "output_type": "display_data"
    }
   ],
   "source": [
    "# Print the Cluster Centers\n",
    "print(\"Features\", \"\\tLATITUDE\", \"\\tLONGITUDE\", \"\\tNUMBER_OF_ENGINES\", \"\\tTOTAL_FATAL_INJURIES\", \"\\tTOTAL_SERIOUS_INJURIES\", \n",
    "      \"\\tTOTAL_MINOR_INJURIES\", \"TOTAL_UNINJURED\")\n",
    "print()\n",
    "\n",
    "for i, center in enumerate(kmeans.cluster_centers_):\n",
    "    print(\"Cluster\", i, end=\":\\t\")\n",
    "    for coord in center:\n",
    "        print(round(coord, 2), end=\"\\t\")\n",
    "    print()\n",
    "print()\n",
    "\n",
    "# Print the Within Cluster Sum of Squares\n",
    "print(\"Within Cluster Sum of Squares :\", kmeans.inertia_)\n",
    "print()\n",
    "\n",
    "# Predict the Cluster Labels\n",
    "labels = kmeans.predict(X)\n",
    "\n",
    "# Append Labels to the Data\n",
    "X_labeled = X.copy()\n",
    "X_labeled[\"Cluster\"] = pd.Categorical(labels)\n",
    "\n",
    "# Summary of the Cluster Labels\n",
    "sb.countplot(X_labeled[\"Cluster\"])"
   ]
  },
  {
   "cell_type": "code",
   "execution_count": 94,
   "metadata": {
    "scrolled": false
   },
   "outputs": [
    {
     "name": "stderr",
     "output_type": "stream",
     "text": [
      "C:\\Users\\v\\Anaconda3\\lib\\site-packages\\statsmodels\\nonparametric\\kde.py:487: RuntimeWarning:\n",
      "\n",
      "invalid value encountered in true_divide\n",
      "\n",
      "C:\\Users\\v\\Anaconda3\\lib\\site-packages\\statsmodels\\nonparametric\\kdetools.py:34: RuntimeWarning:\n",
      "\n",
      "invalid value encountered in double_scalars\n",
      "\n"
     ]
    },
    {
     "data": {
      "text/plain": [
       "<seaborn.axisgrid.PairGrid at 0x25edf33f898>"
      ]
     },
     "execution_count": 94,
     "metadata": {},
     "output_type": "execute_result"
    },
    {
     "data": {
      "image/png": "[encoded data removed]",
      "text/plain": [
       "<Figure size 1485.72x1440 with 72 Axes>"
      ]
     },
     "metadata": {},
     "output_type": "display_data"
    }
   ],
   "source": [
    "# Plot the Clusters on 2D grids \n",
    "# clone the X dataframe to another s\n",
    "T = X_labeled.copy()\n",
    "T.iloc[:, :7] = T.iloc[:, :7].astype(\"float64\")\n",
    "# pairplot on the dataset \n",
    "sb.pairplot(T, vars = T.columns, hue = \"Cluster\")"
   ]
  },
  {
   "cell_type": "markdown",
   "metadata": {},
   "source": [
    "# Problem 1: Find out which manufacturers produce aircraft has cause least \n",
    "\n",
    "# accidents. "
   ]
  },
  {
   "cell_type": "code",
   "execution_count": 95,
   "metadata": {},
   "outputs": [
    {
     "data": {
      "text/html": [
       "<div>\n",
       "<style scoped>\n",
       "    .dataframe tbody tr th:only-of-type {\n",
       "        vertical-align: middle;\n",
       "    }\n",
       "\n",
       "    .dataframe tbody tr th {\n",
       "        vertical-align: top;\n",
       "    }\n",
       "\n",
       "    .dataframe thead th {\n",
       "        text-align: right;\n",
       "    }\n",
       "</style>\n",
       "<table border=\"1\" class=\"dataframe\">\n",
       "  <thead>\n",
       "    <tr style=\"text-align: right;\">\n",
       "      <th></th>\n",
       "      <th>Count</th>\n",
       "    </tr>\n",
       "  </thead>\n",
       "  <tbody>\n",
       "    <tr>\n",
       "      <th>ANCHORAGE, AK</th>\n",
       "      <td>372</td>\n",
       "    </tr>\n",
       "    <tr>\n",
       "      <th>MIAMI, FL</th>\n",
       "      <td>185</td>\n",
       "    </tr>\n",
       "    <tr>\n",
       "      <th>CHICAGO, IL</th>\n",
       "      <td>169</td>\n",
       "    </tr>\n",
       "    <tr>\n",
       "      <th>ALBUQUERQUE, NM</th>\n",
       "      <td>165</td>\n",
       "    </tr>\n",
       "    <tr>\n",
       "      <th>HOUSTON, TX</th>\n",
       "      <td>155</td>\n",
       "    </tr>\n",
       "  </tbody>\n",
       "</table>\n",
       "</div>"
      ],
      "text/plain": [
       "                 Count\n",
       "ANCHORAGE, AK      372\n",
       "MIAMI, FL          185\n",
       "CHICAGO, IL        169\n",
       "ALBUQUERQUE, NM    165\n",
       "HOUSTON, TX        155"
      ]
     },
     "execution_count": 95,
     "metadata": {},
     "output_type": "execute_result"
    }
   ],
   "source": [
    "# top five location has highest rate of accidents\n",
    "locations = data[\"LOCATION\"].value_counts().to_frame()\n",
    "locations.columns = [\"Count\"]\n",
    "locations.head()"
   ]
  },
  {
   "cell_type": "markdown",
   "metadata": {},
   "source": [
    "### Add a column called TOTAL_INJURIES count the total number of all kind of injuries (MINOR to SERIOUS) "
   ]
  },
  {
   "cell_type": "code",
   "execution_count": 96,
   "metadata": {
    "scrolled": true
   },
   "outputs": [
    {
     "data": {
      "text/html": [
       "<div>\n",
       "<style scoped>\n",
       "    .dataframe tbody tr th:only-of-type {\n",
       "        vertical-align: middle;\n",
       "    }\n",
       "\n",
       "    .dataframe tbody tr th {\n",
       "        vertical-align: top;\n",
       "    }\n",
       "\n",
       "    .dataframe thead th {\n",
       "        text-align: right;\n",
       "    }\n",
       "</style>\n",
       "<table border=\"1\" class=\"dataframe\">\n",
       "  <thead>\n",
       "    <tr style=\"text-align: right;\">\n",
       "      <th></th>\n",
       "      <th>EVENT_DATE</th>\n",
       "      <th>LOCATION</th>\n",
       "      <th>COUNTRY</th>\n",
       "      <th>LATITUDE</th>\n",
       "      <th>LONGITUDE</th>\n",
       "      <th>AIRPORT_CODE</th>\n",
       "      <th>AIRPORT_NAME</th>\n",
       "      <th>INJURY_SEVERITY</th>\n",
       "      <th>AIRCRAFT_DAMAGE</th>\n",
       "      <th>AIRCRAFT_CATEGORY</th>\n",
       "      <th>...</th>\n",
       "      <th>NUMBER_OF_ENGINES</th>\n",
       "      <th>ENGINE_TYPE</th>\n",
       "      <th>PURPOSE_OF_FLIGHT</th>\n",
       "      <th>TOTAL_FATAL_INJURIES</th>\n",
       "      <th>TOTAL_SERIOUS_INJURIES</th>\n",
       "      <th>TOTAL_MINOR_INJURIES</th>\n",
       "      <th>TOTAL_UNINJURED</th>\n",
       "      <th>WEATHER_CONDITION</th>\n",
       "      <th>BROAD_PHASE_OF_FLIGHT</th>\n",
       "      <th>TOTAL_INJURIES</th>\n",
       "    </tr>\n",
       "  </thead>\n",
       "  <tbody>\n",
       "    <tr>\n",
       "      <th>15029</th>\n",
       "      <td>22/2/2008</td>\n",
       "      <td>Kayenta, AZ</td>\n",
       "      <td>United States</td>\n",
       "      <td>36.471667</td>\n",
       "      <td>-110.417778</td>\n",
       "      <td>38AZ</td>\n",
       "      <td>Peabody Bedard Field</td>\n",
       "      <td>Non-Fatal</td>\n",
       "      <td>Substantial</td>\n",
       "      <td>Airplane</td>\n",
       "      <td>...</td>\n",
       "      <td>2.0</td>\n",
       "      <td>Turbo Prop</td>\n",
       "      <td>Executive/Corporate</td>\n",
       "      <td>0.0</td>\n",
       "      <td>2.0</td>\n",
       "      <td>3.0</td>\n",
       "      <td>15.0</td>\n",
       "      <td>IMC</td>\n",
       "      <td>LANDING</td>\n",
       "      <td>5.0</td>\n",
       "    </tr>\n",
       "    <tr>\n",
       "      <th>15851</th>\n",
       "      <td>1/9/2007</td>\n",
       "      <td>Elizabethton, TN</td>\n",
       "      <td>United States</td>\n",
       "      <td>36.433611</td>\n",
       "      <td>-82.102778</td>\n",
       "      <td>0A9</td>\n",
       "      <td>Elizabethton Municipal Airport</td>\n",
       "      <td>Fatal(5)</td>\n",
       "      <td>Destroyed</td>\n",
       "      <td>Airplane</td>\n",
       "      <td>...</td>\n",
       "      <td>1.0</td>\n",
       "      <td>Reciprocating</td>\n",
       "      <td>Personal</td>\n",
       "      <td>5.0</td>\n",
       "      <td>0.0</td>\n",
       "      <td>0.0</td>\n",
       "      <td>0.0</td>\n",
       "      <td>VMC</td>\n",
       "      <td>CLIMB</td>\n",
       "      <td>5.0</td>\n",
       "    </tr>\n",
       "    <tr>\n",
       "      <th>16477</th>\n",
       "      <td>8/6/2007</td>\n",
       "      <td>Gallatin, TN</td>\n",
       "      <td>United States</td>\n",
       "      <td>36.406667</td>\n",
       "      <td>-86.358889</td>\n",
       "      <td>M33</td>\n",
       "      <td>Sumner County</td>\n",
       "      <td>Non-Fatal</td>\n",
       "      <td>Substantial</td>\n",
       "      <td>Airplane</td>\n",
       "      <td>...</td>\n",
       "      <td>1.0</td>\n",
       "      <td>Reciprocating</td>\n",
       "      <td>Business</td>\n",
       "      <td>0.0</td>\n",
       "      <td>2.0</td>\n",
       "      <td>2.0</td>\n",
       "      <td>0.0</td>\n",
       "      <td>VMC</td>\n",
       "      <td>DESCENT</td>\n",
       "      <td>4.0</td>\n",
       "    </tr>\n",
       "    <tr>\n",
       "      <th>16253</th>\n",
       "      <td>8/7/2007</td>\n",
       "      <td>Brooks, KY</td>\n",
       "      <td>United States</td>\n",
       "      <td>38.039444</td>\n",
       "      <td>-85.790000</td>\n",
       "      <td>73KY</td>\n",
       "      <td>Brooks Field</td>\n",
       "      <td>Fatal(2)</td>\n",
       "      <td>Substantial</td>\n",
       "      <td>Airplane</td>\n",
       "      <td>...</td>\n",
       "      <td>1.0</td>\n",
       "      <td>Reciprocating</td>\n",
       "      <td>Personal</td>\n",
       "      <td>2.0</td>\n",
       "      <td>2.0</td>\n",
       "      <td>0.0</td>\n",
       "      <td>0.0</td>\n",
       "      <td>VMC</td>\n",
       "      <td>LANDING</td>\n",
       "      <td>4.0</td>\n",
       "    </tr>\n",
       "    <tr>\n",
       "      <th>15917</th>\n",
       "      <td>22/8/2007</td>\n",
       "      <td>Niceville, FL</td>\n",
       "      <td>United States</td>\n",
       "      <td>30.519723</td>\n",
       "      <td>-86.438333</td>\n",
       "      <td>FL17</td>\n",
       "      <td>Ruckel Airport</td>\n",
       "      <td>Non-Fatal</td>\n",
       "      <td>Substantial</td>\n",
       "      <td>Airplane</td>\n",
       "      <td>...</td>\n",
       "      <td>1.0</td>\n",
       "      <td>Reciprocating</td>\n",
       "      <td>Personal</td>\n",
       "      <td>0.0</td>\n",
       "      <td>2.0</td>\n",
       "      <td>2.0</td>\n",
       "      <td>0.0</td>\n",
       "      <td>VMC</td>\n",
       "      <td>TAKEOFF</td>\n",
       "      <td>4.0</td>\n",
       "    </tr>\n",
       "  </tbody>\n",
       "</table>\n",
       "<p>5 rows × 23 columns</p>\n",
       "</div>"
      ],
      "text/plain": [
       "      EVENT_DATE          LOCATION        COUNTRY   LATITUDE   LONGITUDE  \\\n",
       "15029  22/2/2008       Kayenta, AZ  United States  36.471667 -110.417778   \n",
       "15851   1/9/2007  Elizabethton, TN  United States  36.433611  -82.102778   \n",
       "16477   8/6/2007      Gallatin, TN  United States  36.406667  -86.358889   \n",
       "16253   8/7/2007        Brooks, KY  United States  38.039444  -85.790000   \n",
       "15917  22/8/2007     Niceville, FL  United States  30.519723  -86.438333   \n",
       "\n",
       "      AIRPORT_CODE                    AIRPORT_NAME INJURY_SEVERITY  \\\n",
       "15029         38AZ            Peabody Bedard Field       Non-Fatal   \n",
       "15851          0A9  Elizabethton Municipal Airport        Fatal(5)   \n",
       "16477          M33                   Sumner County       Non-Fatal   \n",
       "16253         73KY                    Brooks Field        Fatal(2)   \n",
       "15917         FL17                  Ruckel Airport       Non-Fatal   \n",
       "\n",
       "      AIRCRAFT_DAMAGE AIRCRAFT_CATEGORY  ... NUMBER_OF_ENGINES    ENGINE_TYPE  \\\n",
       "15029     Substantial          Airplane  ...               2.0     Turbo Prop   \n",
       "15851       Destroyed          Airplane  ...               1.0  Reciprocating   \n",
       "16477     Substantial          Airplane  ...               1.0  Reciprocating   \n",
       "16253     Substantial          Airplane  ...               1.0  Reciprocating   \n",
       "15917     Substantial          Airplane  ...               1.0  Reciprocating   \n",
       "\n",
       "         PURPOSE_OF_FLIGHT  TOTAL_FATAL_INJURIES TOTAL_SERIOUS_INJURIES  \\\n",
       "15029  Executive/Corporate                   0.0                    2.0   \n",
       "15851             Personal                   5.0                    0.0   \n",
       "16477             Business                   0.0                    2.0   \n",
       "16253             Personal                   2.0                    2.0   \n",
       "15917             Personal                   0.0                    2.0   \n",
       "\n",
       "      TOTAL_MINOR_INJURIES  TOTAL_UNINJURED  WEATHER_CONDITION  \\\n",
       "15029                  3.0             15.0                IMC   \n",
       "15851                  0.0              0.0                VMC   \n",
       "16477                  2.0              0.0                VMC   \n",
       "16253                  0.0              0.0                VMC   \n",
       "15917                  2.0              0.0                VMC   \n",
       "\n",
       "       BROAD_PHASE_OF_FLIGHT  TOTAL_INJURIES  \n",
       "15029                LANDING             5.0  \n",
       "15851                  CLIMB             5.0  \n",
       "16477                DESCENT             4.0  \n",
       "16253                LANDING             4.0  \n",
       "15917                TAKEOFF             4.0  \n",
       "\n",
       "[5 rows x 23 columns]"
      ]
     },
     "execution_count": 96,
     "metadata": {},
     "output_type": "execute_result"
    }
   ],
   "source": [
    "# add a \"\"\n",
    "df[\"TOTAL_INJURIES\"] = df[\"TOTAL_FATAL_INJURIES\"] + df[\"TOTAL_SERIOUS_INJURIES\"] + df[\"TOTAL_MINOR_INJURIES\"]\n",
    "# sort values by total of injuries\n",
    "df = df.sort_values([\"TOTAL_INJURIES\"], ascending = False)\n",
    "# top five injuries records\n",
    "df.head()"
   ]
  },
  {
   "cell_type": "code",
   "execution_count": 97,
   "metadata": {},
   "outputs": [],
   "source": [
    "# extract the MAKE and TOTAL_INJURIES from the dataframe\n",
    "make = df[[\"MAKE\", \"TOTAL_INJURIES\"]]\n",
    "make = make.groupby(\"MAKE\").sum().sort_values(\"TOTAL_INJURIES\", ascending = True)"
   ]
  },
  {
   "cell_type": "markdown",
   "metadata": {},
   "source": [
    "## Top five most secured branches"
   ]
  },
  {
   "cell_type": "code",
   "execution_count": 101,
   "metadata": {},
   "outputs": [
    {
     "data": {
      "text/html": [
       "<div>\n",
       "<style scoped>\n",
       "    .dataframe tbody tr th:only-of-type {\n",
       "        vertical-align: middle;\n",
       "    }\n",
       "\n",
       "    .dataframe tbody tr th {\n",
       "        vertical-align: top;\n",
       "    }\n",
       "\n",
       "    .dataframe thead th {\n",
       "        text-align: right;\n",
       "    }\n",
       "</style>\n",
       "<table border=\"1\" class=\"dataframe\">\n",
       "  <thead>\n",
       "    <tr style=\"text-align: right;\">\n",
       "      <th></th>\n",
       "      <th>TOTAL_INJURIES</th>\n",
       "    </tr>\n",
       "    <tr>\n",
       "      <th>MAKE</th>\n",
       "      <th></th>\n",
       "    </tr>\n",
       "  </thead>\n",
       "  <tbody>\n",
       "    <tr>\n",
       "      <th>AERO COMMANDER</th>\n",
       "      <td>0.0</td>\n",
       "    </tr>\n",
       "    <tr>\n",
       "      <th>Hawker</th>\n",
       "      <td>0.0</td>\n",
       "    </tr>\n",
       "    <tr>\n",
       "      <th>GULFSTREAM AEROSPACE</th>\n",
       "      <td>0.0</td>\n",
       "    </tr>\n",
       "    <tr>\n",
       "      <th>Extra Flugzeugproduktions-und</th>\n",
       "      <td>0.0</td>\n",
       "    </tr>\n",
       "    <tr>\n",
       "      <th>Evektor-Aerotechnik AS</th>\n",
       "      <td>0.0</td>\n",
       "    </tr>\n",
       "  </tbody>\n",
       "</table>\n",
       "</div>"
      ],
      "text/plain": [
       "                               TOTAL_INJURIES\n",
       "MAKE                                         \n",
       "AERO COMMANDER                            0.0\n",
       "Hawker                                    0.0\n",
       "GULFSTREAM AEROSPACE                      0.0\n",
       "Extra Flugzeugproduktions-und             0.0\n",
       "Evektor-Aerotechnik AS                    0.0"
      ]
     },
     "execution_count": 101,
     "metadata": {},
     "output_type": "execute_result"
    }
   ],
   "source": [
    "# top 5 most secured airplane branch\n",
    "make.head(5)"
   ]
  },
  {
   "cell_type": "markdown",
   "metadata": {},
   "source": [
    "### Hence, from such basic analysis, \n",
    "\n",
    "- The most secured make could be one of the branches as listed above namely: **AERO COMMANDER, Hawker, GULFSTREAM AEROSPACE, Extra Flugzeugproduktions-und, Evektor-Aerotechnik AS**.\n",
    "\n",
    "\n",
    "- The most unsecured one belongs to the **CESSNA** which outplayed others with **34** injuries in total.\n",
    "\n",
    "\n",
    "  "
   ]
  },
  {
   "cell_type": "markdown",
   "metadata": {},
   "source": [
    "## Top five most insecured branches"
   ]
  },
  {
   "cell_type": "code",
   "execution_count": 71,
   "metadata": {},
   "outputs": [
    {
     "data": {
      "text/html": [
       "<div>\n",
       "<style scoped>\n",
       "    .dataframe tbody tr th:only-of-type {\n",
       "        vertical-align: middle;\n",
       "    }\n",
       "\n",
       "    .dataframe tbody tr th {\n",
       "        vertical-align: top;\n",
       "    }\n",
       "\n",
       "    .dataframe thead th {\n",
       "        text-align: right;\n",
       "    }\n",
       "</style>\n",
       "<table border=\"1\" class=\"dataframe\">\n",
       "  <thead>\n",
       "    <tr style=\"text-align: right;\">\n",
       "      <th></th>\n",
       "      <th>MAKE</th>\n",
       "      <th>TOTAL_INJURIES</th>\n",
       "    </tr>\n",
       "  </thead>\n",
       "  <tbody>\n",
       "    <tr>\n",
       "      <th>0</th>\n",
       "      <td>CESSNA</td>\n",
       "      <td>34.0</td>\n",
       "    </tr>\n",
       "    <tr>\n",
       "      <th>1</th>\n",
       "      <td>PIPER</td>\n",
       "      <td>19.0</td>\n",
       "    </tr>\n",
       "    <tr>\n",
       "      <th>2</th>\n",
       "      <td>BEECH</td>\n",
       "      <td>14.0</td>\n",
       "    </tr>\n",
       "    <tr>\n",
       "      <th>3</th>\n",
       "      <td>Raytheon Aircraft Company</td>\n",
       "      <td>9.0</td>\n",
       "    </tr>\n",
       "    <tr>\n",
       "      <th>4</th>\n",
       "      <td>Mooney</td>\n",
       "      <td>8.0</td>\n",
       "    </tr>\n",
       "  </tbody>\n",
       "</table>\n",
       "</div>"
      ],
      "text/plain": [
       "                        MAKE  TOTAL_INJURIES\n",
       "0                     CESSNA            34.0\n",
       "1                      PIPER            19.0\n",
       "2                      BEECH            14.0\n",
       "3  Raytheon Aircraft Company             9.0\n",
       "4                     Mooney             8.0"
      ]
     },
     "execution_count": 71,
     "metadata": {},
     "output_type": "execute_result"
    }
   ],
   "source": [
    "# top5 insecured \n",
    "top5_insecured = make.tail(5)[::-1]\n",
    "top5_insecured = top5_insecured.reset_index()\n",
    "top5_insecured.columns = [\"MAKE\", \"TOTAL_INJURIES\"]\n",
    "top5_insecured.head(5)"
   ]
  },
  {
   "cell_type": "code",
   "execution_count": 74,
   "metadata": {},
   "outputs": [
    {
     "data": {
      "text/plain": [
       "<matplotlib.axes._subplots.AxesSubplot at 0x25edc8cc780>"
      ]
     },
     "execution_count": 74,
     "metadata": {},
     "output_type": "execute_result"
    },
    {
     "data": {
      "image/png": "[encoded data removed]",
      "text/plain": [
       "<Figure size 720x720 with 1 Axes>"
      ]
     },
     "metadata": {},
     "output_type": "display_data"
    }
   ],
   "source": [
    "# visualizing in barchart\n",
    "fig, axes = plt.subplots(1, 1, figsize = (10, 10))\n",
    "plt.title(\"TOP 5 UNRELIABLE MAKE BRANCH\")\n",
    "sb.barplot(x = \"MAKE\",y = \"TOTAL_INJURIES\", data = top5_insecured)"
   ]
  },
  {
   "cell_type": "markdown",
   "metadata": {},
   "source": [
    "# Problem 2: visualizing whichb"
   ]
  },
  {
   "cell_type": "markdown",
   "metadata": {},
   "source": [
    "# Problem 3: Find out which accidents are outliers compared to others"
   ]
  }
 ],
 "metadata": {
  "kernelspec": {
   "display_name": "Python 3",
   "language": "python",
   "name": "python3"
  },
  "language_info": {
   "codemirror_mode": {
    "name": "ipython",
    "version": 3
   },
   "file_extension": ".py",
   "mimetype": "text/x-python",
   "name": "python",
   "nbconvert_exporter": "python",
   "pygments_lexer": "ipython3",
   "version": "3.7.3"
  }
 },
 "nbformat": 4,
 "nbformat_minor": 2
}
